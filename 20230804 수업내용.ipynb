{
 "cells": [
  {
   "cell_type": "markdown",
   "id": "e97335be",
   "metadata": {},
   "source": [
    "## 인스턴스 변수 vs 클래스 변수\n",
    "- 인스턴스 변수 : 인스턴스를 생성할 때마다 반복적으로 생성되는 변수\n",
    "- 인스턴스가 100개 생성되어 있다면 인스턴스 변수도 100번 반복 생성됨\n",
    "- 클래스 변수 : 인스턴스 생성과 무관하게 한번 생성되어 유지되는 변수\n",
    "- Java에서 클래스 변수 선언 : static 키워드 사용\n",
    "- Java에서 인스턴스 변수 선언 : none-static\n",
    "- Python 클래스 변수 선언 : 클래스 내부, 메소드 밖에 선언\n",
    "- Python 클래스 변수는 클래스 참조를 이용하여 동적으로 생성 가능\n",
    "- Python 인스턴스 변수 선언 : 메소드 내부에서 인스턴스 참조 사용\n",
    "- Python 인스턴스 변수는 인스턴스 참조를 이용하여 동적으로 생성 가능"
   ]
  },
  {
   "cell_type": "code",
   "execution_count": 1,
   "id": "53b871e0",
   "metadata": {},
   "outputs": [],
   "source": [
    "# 인스턴스 변수, 클래스 변수\n",
    "class Student:\n",
    "    \n",
    "    school_name = \"신림고\"\n",
    "    \n",
    "    def __init__(self):\n",
    "        self.num = 11\n",
    "        self.name = \"홍길동\""
   ]
  },
  {
   "cell_type": "code",
   "execution_count": 2,
   "id": "8fd5a394",
   "metadata": {},
   "outputs": [],
   "source": [
    "# Student 클래스의 인스턴스 생성\n",
    "# 인스턴스 생성에 앞서 클래스가 메모리에 로드된다\n",
    "# 클래스가 로드될 때 그 안에 선언된 클래스 변수도 생성된다\n",
    "\n",
    "student = Student()"
   ]
  },
  {
   "cell_type": "code",
   "execution_count": 3,
   "id": "3650c5ab",
   "metadata": {
    "scrolled": true
   },
   "outputs": [
    {
     "data": {
      "text/plain": [
       "mappingproxy({'__module__': '__main__',\n",
       "              'school_name': '신림고',\n",
       "              '__init__': <function __main__.Student.__init__(self)>,\n",
       "              '__dict__': <attribute '__dict__' of 'Student' objects>,\n",
       "              '__weakref__': <attribute '__weakref__' of 'Student' objects>,\n",
       "              '__doc__': None})"
      ]
     },
     "execution_count": 3,
     "metadata": {},
     "output_type": "execute_result"
    }
   ],
   "source": [
    "\n",
    "Student.__dict__"
   ]
  },
  {
   "cell_type": "code",
   "execution_count": 4,
   "id": "eb858549",
   "metadata": {},
   "outputs": [
    {
     "data": {
      "text/plain": [
       "{'num': 11, 'name': '홍길동'}"
      ]
     },
     "execution_count": 4,
     "metadata": {},
     "output_type": "execute_result"
    }
   ],
   "source": [
    "student.__dict__"
   ]
  },
  {
   "cell_type": "code",
   "execution_count": 5,
   "id": "203d7904",
   "metadata": {},
   "outputs": [
    {
     "data": {
      "text/plain": [
       "{'num': 12, 'name': '홍길동'}"
      ]
     },
     "execution_count": 5,
     "metadata": {},
     "output_type": "execute_result"
    }
   ],
   "source": [
    "student.num = 12\n",
    "student.__dict__"
   ]
  },
  {
   "cell_type": "code",
   "execution_count": 6,
   "id": "58c38716",
   "metadata": {},
   "outputs": [
    {
     "data": {
      "text/plain": [
       "{'num': 11, 'name': '홍길동'}"
      ]
     },
     "execution_count": 6,
     "metadata": {},
     "output_type": "execute_result"
    }
   ],
   "source": [
    "st2 = Student()\n",
    "st2.__dict__"
   ]
  },
  {
   "cell_type": "code",
   "execution_count": 7,
   "id": "672b709e",
   "metadata": {},
   "outputs": [
    {
     "data": {
      "text/plain": [
       "{'num': 12, 'name': '박찬호'}"
      ]
     },
     "execution_count": 7,
     "metadata": {},
     "output_type": "execute_result"
    }
   ],
   "source": [
    "st2.num = 12\n",
    "st2.name = '박찬호'\n",
    "st2.__dict__"
   ]
  },
  {
   "cell_type": "code",
   "execution_count": 8,
   "id": "55d4a699",
   "metadata": {},
   "outputs": [],
   "source": [
    "st1 = student\n",
    "st1.num = 11"
   ]
  },
  {
   "cell_type": "code",
   "execution_count": 9,
   "id": "7a2925c6",
   "metadata": {},
   "outputs": [
    {
     "name": "stdout",
     "output_type": "stream",
     "text": [
      "{'num': 11, 'name': '홍길동'}\n",
      "{'num': 12, 'name': '박찬호'}\n"
     ]
    }
   ],
   "source": [
    "print(st1.__dict__)\n",
    "print(st2.__dict__)"
   ]
  },
  {
   "cell_type": "code",
   "execution_count": 10,
   "id": "a4380baf",
   "metadata": {},
   "outputs": [
    {
     "data": {
      "text/plain": [
       "mappingproxy({'__module__': '__main__',\n",
       "              'school_name': '신림고',\n",
       "              '__init__': <function __main__.Student.__init__(self)>,\n",
       "              '__dict__': <attribute '__dict__' of 'Student' objects>,\n",
       "              '__weakref__': <attribute '__weakref__' of 'Student' objects>,\n",
       "              '__doc__': None})"
      ]
     },
     "execution_count": 10,
     "metadata": {},
     "output_type": "execute_result"
    }
   ],
   "source": [
    "Student.__dict__"
   ]
  },
  {
   "cell_type": "code",
   "execution_count": 13,
   "id": "b70974cc",
   "metadata": {},
   "outputs": [
    {
     "data": {
      "text/plain": [
       "(2159010675088, 2159010605392)"
      ]
     },
     "execution_count": 13,
     "metadata": {},
     "output_type": "execute_result"
    }
   ],
   "source": [
    "st1==st2   # False\n",
    "st1 is st2  # False \n",
    "\n",
    "id(st1),id(st2)  # (2159010675088, 2159010605392)"
   ]
  },
  {
   "cell_type": "code",
   "execution_count": 14,
   "id": "8fd19673",
   "metadata": {},
   "outputs": [],
   "source": [
    "st3 = Student()\n",
    "st3.num = 13\n",
    "st3.name = 'Scott'"
   ]
  },
  {
   "cell_type": "code",
   "execution_count": 15,
   "id": "f28c9a6d",
   "metadata": {},
   "outputs": [],
   "source": [
    "st4 = Student()\n",
    "st4.num = 13\n",
    "st4.name = 'Scott'"
   ]
  },
  {
   "cell_type": "code",
   "execution_count": 18,
   "id": "811c3aa0",
   "metadata": {},
   "outputs": [
    {
     "data": {
      "text/plain": [
       "{'num': 13, 'name': 'Scott'}"
      ]
     },
     "execution_count": 18,
     "metadata": {},
     "output_type": "execute_result"
    }
   ],
   "source": [
    "st3.__dict__"
   ]
  },
  {
   "cell_type": "code",
   "execution_count": 19,
   "id": "4e40bc37",
   "metadata": {},
   "outputs": [
    {
     "data": {
      "text/plain": [
       "{'num': 13, 'name': 'Scott'}"
      ]
     },
     "execution_count": 19,
     "metadata": {},
     "output_type": "execute_result"
    }
   ],
   "source": [
    "st4.__dict__"
   ]
  },
  {
   "cell_type": "code",
   "execution_count": 17,
   "id": "6c636df2",
   "metadata": {},
   "outputs": [
    {
     "data": {
      "text/plain": [
       "False"
      ]
     },
     "execution_count": 17,
     "metadata": {},
     "output_type": "execute_result"
    }
   ],
   "source": [
    "st3 == st4  # False\n",
    "st3 is st4  # 참조가 서로 다르다"
   ]
  },
  {
   "cell_type": "markdown",
   "id": "63105f5a",
   "metadata": {},
   "source": [
    "## Built-In 메소드 오버로드\n",
    "- 위에서 내용비교를 했을 때 객체의 내용이 동일함에도 불구하고 == 결과가 False인 점을 개조할 필요가 있다\n",
    "- \\_\\_eq|\\_\\_()메소드 오버로드"
   ]
  },
  {
   "cell_type": "code",
   "execution_count": 83,
   "id": "ab42c79f",
   "metadata": {},
   "outputs": [],
   "source": [
    "class Student:\n",
    "    \n",
    "    school_name = \"신림고\"\n",
    "    \n",
    "    def __init__(self,num,name):\n",
    "        self.num = num\n",
    "        self.name = name\n",
    "        \n",
    "    def __eq__(self, other):\n",
    "        return self.num==other.num and self.name==other.name\n",
    "    \n",
    "    def __str__(self):\n",
    "        return f\"학생: {self.num} - {self.name}\"\n",
    "    \n",
    "    @classmethod\n",
    "    def set_school_name(cls, school_name):\n",
    "        cls.school_name = school_name"
   ]
  },
  {
   "cell_type": "code",
   "execution_count": 85,
   "id": "a4eee6c1",
   "metadata": {},
   "outputs": [
    {
     "name": "stdout",
     "output_type": "stream",
     "text": [
      "강남고\t학생: 15 - Laura\n"
     ]
    }
   ],
   "source": [
    "st = Student(15,'Laura')\n",
    "Student.set_school_name('강남고')   # 클래스 메소드 호출\n",
    "print(Student.school_name, end=\"\\t\")\n",
    "print(st)"
   ]
  },
  {
   "cell_type": "code",
   "execution_count": 63,
   "id": "c8ebe493",
   "metadata": {},
   "outputs": [],
   "source": [
    "st1 = Student(11,'Smith')\n",
    "st2 = Student(11,'Smith')"
   ]
  },
  {
   "cell_type": "code",
   "execution_count": 23,
   "id": "251c8da1",
   "metadata": {},
   "outputs": [
    {
     "data": {
      "text/plain": [
       "True"
      ]
     },
     "execution_count": 23,
     "metadata": {},
     "output_type": "execute_result"
    }
   ],
   "source": [
    "st1 is st2  # False\n",
    "st1 == st2  # True"
   ]
  },
  {
   "cell_type": "code",
   "execution_count": 64,
   "id": "524525f1",
   "metadata": {},
   "outputs": [
    {
     "name": "stdout",
     "output_type": "stream",
     "text": [
      "학생: 11 - Smith, 학교: 신림고\n"
     ]
    }
   ],
   "source": [
    "print(st1)"
   ]
  },
  {
   "cell_type": "code",
   "execution_count": 25,
   "id": "434d17d3",
   "metadata": {
    "scrolled": true
   },
   "outputs": [
    {
     "data": {
      "text/plain": [
       "['__class__',\n",
       " '__delattr__',\n",
       " '__dict__',\n",
       " '__dir__',\n",
       " '__doc__',\n",
       " '__eq__',\n",
       " '__format__',\n",
       " '__ge__',\n",
       " '__getattribute__',\n",
       " '__getstate__',\n",
       " '__gt__',\n",
       " '__hash__',\n",
       " '__init__',\n",
       " '__init_subclass__',\n",
       " '__le__',\n",
       " '__lt__',\n",
       " '__module__',\n",
       " '__ne__',\n",
       " '__new__',\n",
       " '__reduce__',\n",
       " '__reduce_ex__',\n",
       " '__repr__',\n",
       " '__setattr__',\n",
       " '__sizeof__',\n",
       " '__str__',\n",
       " '__subclasshook__',\n",
       " '__weakref__',\n",
       " 'name',\n",
       " 'num',\n",
       " 'school_name']"
      ]
     },
     "execution_count": 25,
     "metadata": {},
     "output_type": "execute_result"
    }
   ],
   "source": [
    "dir(st1)"
   ]
  },
  {
   "cell_type": "markdown",
   "id": "200d6e79",
   "metadata": {},
   "source": [
    "### 클래스 변수의 값 변경하기\n",
    "- 클래스이름.클래스변수 = 값\n",
    "- Student.school_name = '관악고'"
   ]
  },
  {
   "cell_type": "code",
   "execution_count": 80,
   "id": "47abffb7",
   "metadata": {},
   "outputs": [],
   "source": [
    "Student.school_name = '관악고'"
   ]
  },
  {
   "cell_type": "code",
   "execution_count": 74,
   "id": "7b37f434",
   "metadata": {},
   "outputs": [
    {
     "ename": "NameError",
     "evalue": "name 'st' is not defined",
     "output_type": "error",
     "traceback": [
      "\u001b[1;31m---------------------------------------------------------------------------\u001b[0m",
      "\u001b[1;31mNameError\u001b[0m                                 Traceback (most recent call last)",
      "Cell \u001b[1;32mIn[74], line 1\u001b[0m\n\u001b[1;32m----> 1\u001b[0m \u001b[38;5;28mprint\u001b[39m(\u001b[38;5;124m'\u001b[39m\u001b[38;5;124m학교명:\u001b[39m\u001b[38;5;132;01m{}\u001b[39;00m\u001b[38;5;124m'\u001b[39m\u001b[38;5;241m.\u001b[39mformat(st\u001b[38;5;241m.\u001b[39mschool_name),end\u001b[38;5;241m=\u001b[39m\u001b[38;5;124m\"\u001b[39m\u001b[38;5;130;01m\\t\u001b[39;00m\u001b[38;5;124m\"\u001b[39m)\n\u001b[0;32m      2\u001b[0m \u001b[38;5;28mprint\u001b[39m(st)\n",
      "\u001b[1;31mNameError\u001b[0m: name 'st' is not defined"
     ]
    }
   ],
   "source": [
    "print('학교명:{}'.format(st.school_name),end=\"\\t\")\n",
    "print(st)"
   ]
  },
  {
   "cell_type": "code",
   "execution_count": 81,
   "id": "09f91427",
   "metadata": {},
   "outputs": [
    {
     "name": "stdout",
     "output_type": "stream",
     "text": [
      "학교명:관악고\t학생: 11 - Smith, 학교: 신림고\n"
     ]
    }
   ],
   "source": [
    "print('학교명:{}'.format(Student.school_name),end=\"\\t\")\n",
    "print(st1)"
   ]
  },
  {
   "cell_type": "markdown",
   "id": "bc67fa9e",
   "metadata": {},
   "source": [
    "### Python 메소드의 종류\n",
    "- 인스턴스 메소드(Instance Method) : 인스턴스 변수를 읽고 쓰기 가능\n",
    "  -- 클래스 변수의 값을 읽을 수 있으나 할당할 수는 없다\n",
    "- 클래스 메소드(Class Method) : 클래스 변수의 값을 읽고 쓰기 가능\n",
    "  -- 인스턴스 변수의 값에 접근할 수 없다\n",
    "- 정적 메소드(Static Method) : 인스턴스 변수나 클래스 변수에 접근 불가"
   ]
  },
  {
   "cell_type": "code",
   "execution_count": 87,
   "id": "6f187711",
   "metadata": {},
   "outputs": [],
   "source": [
    "class Student:\n",
    "    \n",
    "    school_name = \"신림고\"\n",
    "    \n",
    "    def __init__(self,num,name):\n",
    "        self.num = num\n",
    "        self.name = name\n",
    "        \n",
    "    def __eq__(self, other):\n",
    "        return self.num==other.num and self.name==other.name\n",
    "    \n",
    "    def __str__(self):\n",
    "        return f\"학생: {self.num} - {self.name}\"\n",
    "    \n",
    "    @classmethod\n",
    "    def set_school_name(cls, school_name):\n",
    "        cls.school_name = school_name\n",
    "        # 위의 문장은 아래의 문장과 동일함\n",
    "        Student.school_name = school_name\n",
    "    \n",
    "    @staticmethod\n",
    "    def print_address(address):\n",
    "        print(address)"
   ]
  },
  {
   "cell_type": "markdown",
   "id": "66baa5e2",
   "metadata": {},
   "source": [
    "### 인스턴스 참조를 이용하여 클래스 변수 다루기"
   ]
  },
  {
   "cell_type": "code",
   "execution_count": 88,
   "id": "215f5f30",
   "metadata": {},
   "outputs": [
    {
     "data": {
      "text/plain": [
       "'신림고'"
      ]
     },
     "execution_count": 88,
     "metadata": {},
     "output_type": "execute_result"
    }
   ],
   "source": [
    "st = Student(11,'Jane')\n",
    "st.school_name  # 잘 실행 됨"
   ]
  },
  {
   "cell_type": "code",
   "execution_count": 92,
   "id": "7a1cc7f1",
   "metadata": {},
   "outputs": [],
   "source": [
    "st.school_name = '관악고'   # 동적으로 새로운 인스턴스 변수 생성"
   ]
  },
  {
   "cell_type": "code",
   "execution_count": 90,
   "id": "fdaac257",
   "metadata": {},
   "outputs": [
    {
     "data": {
      "text/plain": [
       "'관악고'"
      ]
     },
     "execution_count": 90,
     "metadata": {},
     "output_type": "execute_result"
    }
   ],
   "source": [
    "st.school_name   # 관악고"
   ]
  },
  {
   "cell_type": "code",
   "execution_count": 91,
   "id": "b19981ac",
   "metadata": {
    "scrolled": true
   },
   "outputs": [
    {
     "data": {
      "text/plain": [
       "'신림고'"
      ]
     },
     "execution_count": 91,
     "metadata": {},
     "output_type": "execute_result"
    }
   ],
   "source": [
    "Student.school_name # 신림고"
   ]
  },
  {
   "cell_type": "code",
   "execution_count": 93,
   "id": "83a83f9d",
   "metadata": {
    "scrolled": true
   },
   "outputs": [
    {
     "data": {
      "text/plain": [
       "mappingproxy({'__module__': '__main__',\n",
       "              'school_name': '신림고',\n",
       "              '__init__': <function __main__.Student.__init__(self, num, name)>,\n",
       "              '__eq__': <function __main__.Student.__eq__(self, other)>,\n",
       "              '__str__': <function __main__.Student.__str__(self)>,\n",
       "              'set_school_name': <classmethod(<function Student.set_school_name at 0x000001F6AFF340E0>)>,\n",
       "              'print_address': <staticmethod(<function Student.print_address at 0x000001F6AFF34040>)>,\n",
       "              '__dict__': <attribute '__dict__' of 'Student' objects>,\n",
       "              '__weakref__': <attribute '__weakref__' of 'Student' objects>,\n",
       "              '__doc__': None,\n",
       "              '__hash__': None})"
      ]
     },
     "execution_count": 93,
     "metadata": {},
     "output_type": "execute_result"
    }
   ],
   "source": [
    "Student.__dict__"
   ]
  },
  {
   "cell_type": "code",
   "execution_count": 94,
   "id": "e99575b6",
   "metadata": {},
   "outputs": [
    {
     "data": {
      "text/plain": [
       "{'num': 11, 'name': 'Jane', 'school_name': '관악고'}"
      ]
     },
     "execution_count": 94,
     "metadata": {},
     "output_type": "execute_result"
    }
   ],
   "source": [
    "st.__dict__"
   ]
  },
  {
   "cell_type": "code",
   "execution_count": null,
   "id": "933bbfdb",
   "metadata": {},
   "outputs": [],
   "source": [
    "# 클래스 참조를 이용하여 인스턴스 변수의 값에 접근가능 할까?  X\n",
    "# 클래스 참조 --> 클래스 변수 읽기/쓰기 가능\n",
    "# 인스턴스 참조 --> 인스턴스변수 읽기/쓰기 가능, 클래스 변수 읽기 가능, 쓰기 불가"
   ]
  },
  {
   "cell_type": "markdown",
   "id": "7f895f1a",
   "metadata": {},
   "source": [
    "## 모듈 안에 클래스 선언하고 사용하기\n",
    "- mymodule.py 안에 Goods 클래스를 선언한다\n",
    "- import mymodule 으로 모듈을 사용한다 \n",
    "- mymodule.Goods 를 코드에서 사용한다\n",
    "- from mymodule import Goods 을 사용해도 된다\n",
    "- goods = Goods()"
   ]
  },
  {
   "cell_type": "code",
   "execution_count": 7,
   "id": "8426f15c",
   "metadata": {},
   "outputs": [
    {
     "name": "stdout",
     "output_type": "stream",
     "text": [
      "Overwriting mymodule.py\n"
     ]
    }
   ],
   "source": [
    "%%writefile mymodule.py\n",
    "class Goods:\n",
    "    def __init__(self,name,price):\n",
    "        self.name = name\n",
    "        self.price = price\n",
    "        \n",
    "    def __str__(self):\n",
    "        return '{}\\t{}'.format(self.name, self.price)"
   ]
  },
  {
   "cell_type": "code",
   "execution_count": 8,
   "id": "21ee55b2",
   "metadata": {},
   "outputs": [
    {
     "name": "stdout",
     "output_type": "stream",
     "text": [
      "노트북\t2000\n"
     ]
    }
   ],
   "source": [
    "import mymodule\n",
    "\n",
    "goods = mymodule.Goods('노트북', 2000)\n",
    "print(goods)"
   ]
  },
  {
   "cell_type": "code",
   "execution_count": 9,
   "id": "7cd9f074",
   "metadata": {},
   "outputs": [
    {
     "name": "stdout",
     "output_type": "stream",
     "text": [
      "Sonata\t2500\n"
     ]
    }
   ],
   "source": [
    "from mymodule import Goods\n",
    "\n",
    "goods = Goods('Sonata', 2500)\n",
    "print(goods)"
   ]
  },
  {
   "cell_type": "code",
   "execution_count": 10,
   "id": "a0016d8b",
   "metadata": {},
   "outputs": [],
   "source": [
    "g1 = Goods('Sonata', 2500)\n",
    "g2 = Goods('Notebook', 150)"
   ]
  },
  {
   "cell_type": "code",
   "execution_count": 11,
   "id": "66abbc6e",
   "metadata": {},
   "outputs": [
    {
     "name": "stdout",
     "output_type": "stream",
     "text": [
      "Sonata\t2500 Notebook\t150\n"
     ]
    }
   ],
   "source": [
    "print(g1,g2)"
   ]
  },
  {
   "cell_type": "code",
   "execution_count": null,
   "id": "24cbe45d",
   "metadata": {},
   "outputs": [],
   "source": [
    "# 2개의 Goods 객체를 + 연산자로 가격끼리 덧셈할 수 있는 기능(g1+g2) - __add__를 사용해서 오버로드 \n",
    "# 2개의 Goods 객체를 <,> 연산자로 가격 비교할 수 있는 기능 (g1>g2) (__lt__ , __gt__ 사용) "
   ]
  },
  {
   "cell_type": "code",
   "execution_count": 15,
   "id": "0b838baf",
   "metadata": {},
   "outputs": [
    {
     "name": "stdout",
     "output_type": "stream",
     "text": [
      "Total\t3200\n",
      "True\n",
      "False\n"
     ]
    }
   ],
   "source": [
    "class Goods:\n",
    "    def __init__(self, name, price):\n",
    "        self.name = name\n",
    "        self.price = price\n",
    "\n",
    "    def __str__(self):\n",
    "        return '{}\\t{}'.format(self.name, self.price)\n",
    "\n",
    "    def __add__(self, other):\n",
    "        if isinstance(other, Goods):\n",
    "            total_price = self.price + other.price\n",
    "            return Goods('Total', total_price)\n",
    "        else:\n",
    "            raise TypeError(\"지원하지 않는 타입의 연산입니다. + 연산은 Goods 객체끼리만 가능합니다.\")\n",
    "\n",
    "    def __lt__(self, other):\n",
    "        if isinstance(other, Goods):\n",
    "            return self.price < other.price\n",
    "        else:\n",
    "            raise TypeError(\"지원하지 않는 타입의 연산입니다. < 연산은 Goods 객체끼리만 가능합니다.\")\n",
    "\n",
    "    def __gt__(self, other):\n",
    "        if isinstance(other, Goods):\n",
    "            return self.price > other.price\n",
    "        else:\n",
    "            raise TypeError(\"지원하지 않는 타입의 연산입니다. > 연산은 Goods 객체끼리만 가능합니다.\")\n",
    "\n",
    "\n",
    "g1 = Goods('Sonata', 3000)\n",
    "g2 = Goods('Notebook', 200)\n",
    "\n",
    "# + 연산자를 사용하여 두 Goods 객체의 가격을 더하고 새로운 Goods 객체를 얻는 예시\n",
    "g_total = g1 + g2\n",
    "print(g_total)  # 출력: Total   3200\n",
    "\n",
    "# <, > 연산자를 사용하여 두 Goods 객체의 가격을 비교하는 예시\n",
    "print(g1 > g2)  # 출력: True\n",
    "print(g1 < g2)  # 출력: False\n"
   ]
  },
  {
   "cell_type": "code",
   "execution_count": 113,
   "id": "dba8e2a3",
   "metadata": {
    "scrolled": false
   },
   "outputs": [
    {
     "ename": "TypeError",
     "evalue": "'<' not supported between instances of 'Goods' and 'Goods'",
     "output_type": "error",
     "traceback": [
      "\u001b[1;31m---------------------------------------------------------------------------\u001b[0m",
      "\u001b[1;31mTypeError\u001b[0m                                 Traceback (most recent call last)",
      "Cell \u001b[1;32mIn[113], line 1\u001b[0m\n\u001b[1;32m----> 1\u001b[0m g1\u001b[38;5;241m<\u001b[39mg2\n",
      "\u001b[1;31mTypeError\u001b[0m: '<' not supported between instances of 'Goods' and 'Goods'"
     ]
    }
   ],
   "source": [
    "g1<g2   # TypeError: '<' not supported between instances of 'Goods' and 'Goods'"
   ]
  },
  {
   "cell_type": "code",
   "execution_count": 6,
   "id": "76091375",
   "metadata": {
    "scrolled": true
   },
   "outputs": [
    {
     "data": {
      "text/plain": [
       "['__class__',\n",
       " '__delattr__',\n",
       " '__dict__',\n",
       " '__dir__',\n",
       " '__doc__',\n",
       " '__eq__',\n",
       " '__format__',\n",
       " '__ge__',\n",
       " '__getattribute__',\n",
       " '__getstate__',\n",
       " '__gt__',\n",
       " '__hash__',\n",
       " '__init__',\n",
       " '__init_subclass__',\n",
       " '__le__',\n",
       " '__lt__',\n",
       " '__module__',\n",
       " '__ne__',\n",
       " '__new__',\n",
       " '__reduce__',\n",
       " '__reduce_ex__',\n",
       " '__repr__',\n",
       " '__setattr__',\n",
       " '__sizeof__',\n",
       " '__str__',\n",
       " '__subclasshook__',\n",
       " '__weakref__',\n",
       " 'name',\n",
       " 'price']"
      ]
     },
     "execution_count": 6,
     "metadata": {},
     "output_type": "execute_result"
    }
   ],
   "source": [
    "dir(g1)"
   ]
  },
  {
   "cell_type": "markdown",
   "id": "63d266c1",
   "metadata": {},
   "source": [
    "## 인스턴스 변수의 직접 접근을 막고 할당을 위한 메소드 사용하기\n",
    "- self.name = '홍길동'\n",
    "- self.__name = '홍길동'   # 변수에 직접 접근을 막기 위함"
   ]
  },
  {
   "cell_type": "code",
   "execution_count": 36,
   "id": "cb6e3510",
   "metadata": {},
   "outputs": [],
   "source": [
    "class Member:\n",
    "    def __init__(self,name,num):\n",
    "        self.__name = name  # 직접접근을 막기위한 방법\n",
    "        self.num = num\n",
    "    def __str__(self):\n",
    "        return '{}\\t{}'.format(self.__name,self.num)\n",
    "    \n",
    "    @property\n",
    "    def name(self):\n",
    "        print('property 메소드 실행')\n",
    "        return self.__name\n",
    "    \n",
    "    @name.setter\n",
    "    def name(self, name):\n",
    "        print('setter 메소드 실행')\n",
    "        self.__name = name"
   ]
  },
  {
   "cell_type": "code",
   "execution_count": 37,
   "id": "e1915441",
   "metadata": {},
   "outputs": [],
   "source": [
    "son = Member('손흥민',20)\n",
    "seri = Member('박세리',12)"
   ]
  },
  {
   "cell_type": "code",
   "execution_count": 38,
   "id": "82307155",
   "metadata": {},
   "outputs": [
    {
     "name": "stdout",
     "output_type": "stream",
     "text": [
      "손흥민\t20\n"
     ]
    }
   ],
   "source": [
    "print(son)"
   ]
  },
  {
   "cell_type": "code",
   "execution_count": 39,
   "id": "4f350cdd",
   "metadata": {
    "scrolled": true
   },
   "outputs": [
    {
     "name": "stdout",
     "output_type": "stream",
     "text": [
      "박세리\t12\n"
     ]
    }
   ],
   "source": [
    "print(seri)"
   ]
  },
  {
   "cell_type": "code",
   "execution_count": 40,
   "id": "064110dc",
   "metadata": {},
   "outputs": [
    {
     "name": "stdout",
     "output_type": "stream",
     "text": [
      "property 메소드 실행\n"
     ]
    },
    {
     "data": {
      "text/plain": [
       "'손흥민'"
      ]
     },
     "execution_count": 40,
     "metadata": {},
     "output_type": "execute_result"
    }
   ],
   "source": [
    "son.name"
   ]
  },
  {
   "cell_type": "code",
   "execution_count": 41,
   "id": "fc5bd3f6",
   "metadata": {},
   "outputs": [
    {
     "name": "stdout",
     "output_type": "stream",
     "text": [
      "setter 메소드 실행\n"
     ]
    }
   ],
   "source": [
    "son.name = '이수근'"
   ]
  },
  {
   "cell_type": "code",
   "execution_count": 34,
   "id": "349c0d44",
   "metadata": {},
   "outputs": [
    {
     "name": "stdout",
     "output_type": "stream",
     "text": [
      "이수근\t20\n"
     ]
    }
   ],
   "source": [
    "print(son)"
   ]
  },
  {
   "cell_type": "code",
   "execution_count": 42,
   "id": "0d90a6e5",
   "metadata": {
    "scrolled": true
   },
   "outputs": [
    {
     "ename": "AttributeError",
     "evalue": "'Member' object has no attribute '__name'",
     "output_type": "error",
     "traceback": [
      "\u001b[1;31m---------------------------------------------------------------------------\u001b[0m",
      "\u001b[1;31mAttributeError\u001b[0m                            Traceback (most recent call last)",
      "Cell \u001b[1;32mIn[42], line 1\u001b[0m\n\u001b[1;32m----> 1\u001b[0m son\u001b[38;5;241m.\u001b[39m__name\n",
      "\u001b[1;31mAttributeError\u001b[0m: 'Member' object has no attribute '__name'"
     ]
    }
   ],
   "source": [
    "son.__name  # AttributeError: 'Member' object has no attribute '__name'"
   ]
  },
  {
   "cell_type": "code",
   "execution_count": 43,
   "id": "52a5b0b3",
   "metadata": {
    "scrolled": true
   },
   "outputs": [
    {
     "data": {
      "text/plain": [
       "{'_Member__name': '이수근', 'num': 20}"
      ]
     },
     "execution_count": 43,
     "metadata": {},
     "output_type": "execute_result"
    }
   ],
   "source": [
    "son.__dict__"
   ]
  },
  {
   "cell_type": "code",
   "execution_count": 44,
   "id": "82a19f77",
   "metadata": {},
   "outputs": [],
   "source": [
    "son.__dict__['_Member__name'] = '박선홍'"
   ]
  },
  {
   "cell_type": "code",
   "execution_count": 45,
   "id": "6c041d8b",
   "metadata": {},
   "outputs": [
    {
     "name": "stdout",
     "output_type": "stream",
     "text": [
      "property 메소드 실행\n"
     ]
    },
    {
     "data": {
      "text/plain": [
       "'박선홍'"
      ]
     },
     "execution_count": 45,
     "metadata": {},
     "output_type": "execute_result"
    }
   ],
   "source": [
    "son.name"
   ]
  },
  {
   "cell_type": "code",
   "execution_count": 15,
   "id": "49d6598c",
   "metadata": {},
   "outputs": [],
   "source": [
    "# 부모 클래스\n",
    "class Aircraft:\n",
    "    def __init__(self,model,speed):\n",
    "        self.model = model\n",
    "        self.speed = speed\n",
    "    def __str__(self):\n",
    "        return '{}\\t{}'.format(self.model,self.speed)"
   ]
  },
  {
   "cell_type": "code",
   "execution_count": 16,
   "id": "0c804e84",
   "metadata": {},
   "outputs": [],
   "source": [
    "# 자식 클래스\n",
    "class Fighter(Aircraft):\n",
    "    \n",
    "    def __init__(self,model,speed,arm):\n",
    "        super().__init__(model,speed)\n",
    "        self.arm = arm\n",
    "        \n",
    "        def __str__(self): # 오버라이드\n",
    "            return '{}\\t{}\\t{}'.format(self.model,self.speed,self.arm)\n",
    "        \n",
    "        def attack(self):  # 자식 클래스에서 새 메소드 추가\n",
    "            print('missle fired!')"
   ]
  },
  {
   "cell_type": "code",
   "execution_count": 17,
   "id": "206cb5f7",
   "metadata": {},
   "outputs": [],
   "source": [
    "aircraft = Aircraft('C-15',100)\n",
    "fa50 = Fighter('FA50',500,'M-5')"
   ]
  },
  {
   "cell_type": "code",
   "execution_count": 18,
   "id": "499b794e",
   "metadata": {},
   "outputs": [
    {
     "name": "stdout",
     "output_type": "stream",
     "text": [
      "C-15\t100\n",
      "FA50\t500\n"
     ]
    }
   ],
   "source": [
    "print(aircraft)\n",
    "print(fa50)"
   ]
  },
  {
   "cell_type": "code",
   "execution_count": 19,
   "id": "7f837ed8",
   "metadata": {
    "scrolled": true
   },
   "outputs": [
    {
     "ename": "AttributeError",
     "evalue": "'Fighter' object has no attribute 'attack'",
     "output_type": "error",
     "traceback": [
      "\u001b[1;31m---------------------------------------------------------------------------\u001b[0m",
      "\u001b[1;31mAttributeError\u001b[0m                            Traceback (most recent call last)",
      "Cell \u001b[1;32mIn[19], line 1\u001b[0m\n\u001b[1;32m----> 1\u001b[0m fa50\u001b[38;5;241m.\u001b[39mattack()\n",
      "\u001b[1;31mAttributeError\u001b[0m: 'Fighter' object has no attribute 'attack'"
     ]
    }
   ],
   "source": [
    "fa50.attack()"
   ]
  },
  {
   "cell_type": "markdown",
   "id": "841b516f",
   "metadata": {},
   "source": [
    "### 클래스와 객체를 이용한 학생 성적관리 CRUD\n",
    "- Student(num(번호),name(이름),python,java,javascript)\n",
    "- 자바:List<Student>\n",
    "- [Student,....]\n",
    "- 키보드에서 입력해서 list에 넣어주고\n",
    "- 수정기능은 과목(python,java,javascript)의 성적만 수정되게 하면 됨\n",
    "- 목록(s),추가(a),검색(f),수정(u),삭제(d),종료(x)"
   ]
  },
  {
   "cell_type": "code",
   "execution_count": null,
   "id": "2c900aae",
   "metadata": {},
   "outputs": [
    {
     "name": "stdout",
     "output_type": "stream",
     "text": [
      "1. 추가 (a)\n",
      "2. 검색 (f)\n",
      "3. 수정 (u)\n",
      "4. 삭제 (d)\n",
      "5. 목록 (s)\n",
      "6. 종료 (x)\n",
      "원하는 기능을 선택하세요: a\n",
      "학번을 입력하세요: 1\n",
      "이름을 입력하세요: Lee\n",
      "Python 성적을 입력하세요: 10\n",
      "Java 성적을 입력하세요: 10\n",
      "JavaScript 성적을 입력하세요: 10\n",
      "학생이 추가되었습니다.\n",
      "1. 추가 (a)\n",
      "2. 검색 (f)\n",
      "3. 수정 (u)\n",
      "4. 삭제 (d)\n",
      "5. 목록 (s)\n",
      "6. 종료 (x)\n",
      "원하는 기능을 선택하세요: u\n",
      "성적을 수정할 학생의 학번을 입력하세요: 1\n",
      "수정할 과목을 입력하세요 (python, java, javascript 중 하나): java\n",
      "새로운 성적을 입력하세요: 30\n",
      "1. 추가 (a)\n",
      "2. 검색 (f)\n",
      "3. 수정 (u)\n",
      "4. 삭제 (d)\n",
      "5. 목록 (s)\n",
      "6. 종료 (x)\n",
      "원하는 기능을 선택하세요: f\n",
      "검색할 학번을 입력하세요: 1\n",
      "번호: 1, 이름: Lee, Python: 10, Java: 30, JavaScript: 10\n",
      "1. 추가 (a)\n",
      "2. 검색 (f)\n",
      "3. 수정 (u)\n",
      "4. 삭제 (d)\n",
      "5. 목록 (s)\n",
      "6. 종료 (x)\n"
     ]
    }
   ],
   "source": [
    "class Student:\n",
    "    def __init__(self, num, name, python, java, javascript):\n",
    "        self.num = num\n",
    "        self.name = name\n",
    "        self.python = python\n",
    "        self.java = java\n",
    "        self.javascript = javascript\n",
    "\n",
    "class StudentManager:\n",
    "    def __init__(self):\n",
    "        self.students = []  # Student 객체들을 담을 리스트\n",
    "\n",
    "    def add(self, student):\n",
    "        # 학생을 리스트에 추가하는 함수\n",
    "        self.students.append(student)\n",
    "\n",
    "    def update(self, num, subject, new_score):\n",
    "        # 학생의 특정 과목 성적을 수정하는 함수\n",
    "        for student in self.students:\n",
    "            if student.num == num:\n",
    "                if subject == 'python':\n",
    "                    student.python = new_score\n",
    "                elif subject == 'java':\n",
    "                    student.java = new_score\n",
    "                elif subject == 'javascript':\n",
    "                    student.javascript = new_score\n",
    "                break\n",
    "        else:\n",
    "            print(\"해당하는 학생 번호가 없습니다.\")\n",
    "\n",
    "    def find(self, num):\n",
    "        # 학생을 학번으로 검색하는 함수\n",
    "        for student in self.students:\n",
    "            if student.num == num:\n",
    "                return student\n",
    "        return None\n",
    "\n",
    "    def delete(self, num):\n",
    "        # 학생을 학번으로 삭제하는 함수\n",
    "        for student in self.students:\n",
    "            if student.num == num:\n",
    "                self.students.remove(student)\n",
    "                break\n",
    "        else:\n",
    "            print(\"해당하는 학생 번호가 없습니다.\")\n",
    "\n",
    "    def resultlist(self):\n",
    "        # 학생 리스트 전체를 출력하는 함수\n",
    "        for student in self.students:\n",
    "            print(f\"번호: {student.num}, 이름: {student.name}, Python: {student.python}, Java: {student.java}, JavaScript: {student.javascript}\")\n",
    "\n",
    "# 메인 코드\n",
    "manager = StudentManager()\n",
    "\n",
    "while True:\n",
    "    print(\"1. 추가 (a)\")\n",
    "    print(\"2. 검색 (f)\")\n",
    "    print(\"3. 수정 (u)\")\n",
    "    print(\"4. 삭제 (d)\")\n",
    "    print(\"5. 목록 (s)\")\n",
    "    print(\"6. 종료 (x)\")\n",
    "    \n",
    "    choice = input(\"원하는 기능을 선택하세요: \")\n",
    "    \n",
    "    if choice == 'a':\n",
    "        num = input(\"학번을 입력하세요: \")\n",
    "        name = input(\"이름을 입력하세요: \")\n",
    "        python = input(\"Python 성적을 입력하세요: \")\n",
    "        java = input(\"Java 성적을 입력하세요: \")\n",
    "        javascript = input(\"JavaScript 성적을 입력하세요: \")\n",
    "        \n",
    "        student = Student(num, name, python, java, javascript)\n",
    "        manager.add(student)\n",
    "        print(\"학생이 추가되었습니다.\")\n",
    "        \n",
    "    elif choice == 'f':\n",
    "        num = input(\"검색할 학번을 입력하세요: \")\n",
    "        student = manager.find(num)\n",
    "        if student:\n",
    "            print(f\"번호: {student.num}, 이름: {student.name}, Python: {student.python}, Java: {student.java}, JavaScript: {student.javascript}\")\n",
    "        else:\n",
    "            print(\"해당하는 학생 번호가 없습니다.\")\n",
    "            \n",
    "    elif choice == 'u':\n",
    "        num = input(\"성적을 수정할 학생의 학번을 입력하세요: \")\n",
    "        subject = input(\"수정할 과목을 입력하세요 (python, java, javascript 중 하나): \")\n",
    "        new_score = input(\"새로운 성적을 입력하세요: \")\n",
    "        manager.update(num, subject, new_score)\n",
    "        \n",
    "    elif choice == 'd':\n",
    "        num = input(\"삭제할 학생의 학번을 입력하세요: \")\n",
    "        manager.delete(num)\n",
    "        \n",
    "    elif choice == 's':\n",
    "        manager.resultlist()\n",
    "        \n",
    "    elif choice == 'x':\n",
    "        print(\"프로그램을 종료합니다.\")\n",
    "        break\n",
    "\n",
    "    else:\n",
    "        print(\"올바른 기능을 선택하세요.\")\n",
    "\n",
    "    \n",
    "    \n",
    "    "
   ]
  }
 ],
 "metadata": {
  "kernelspec": {
   "display_name": "Python 3 (ipykernel)",
   "language": "python",
   "name": "python3"
  },
  "language_info": {
   "codemirror_mode": {
    "name": "ipython",
    "version": 3
   },
   "file_extension": ".py",
   "mimetype": "text/x-python",
   "name": "python",
   "nbconvert_exporter": "python",
   "pygments_lexer": "ipython3",
   "version": "3.11.3"
  }
 },
 "nbformat": 4,
 "nbformat_minor": 5
}
