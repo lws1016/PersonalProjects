{
 "cells": [
  {
   "cell_type": "markdown",
   "id": "47c8f36d",
   "metadata": {},
   "source": [
    "## 배열 전치와 축 변경\n",
    "- 전치행렬\n",
    "- arr.T      # T는 전치를 의미함\n",
    "- arr.transpose()"
   ]
  },
  {
   "cell_type": "code",
   "execution_count": 1,
   "id": "f5dac78f",
   "metadata": {},
   "outputs": [
    {
     "data": {
      "text/plain": [
       "array([[ 0,  1,  2,  3,  4],\n",
       "       [ 5,  6,  7,  8,  9],\n",
       "       [10, 11, 12, 13, 14]])"
      ]
     },
     "execution_count": 1,
     "metadata": {},
     "output_type": "execute_result"
    }
   ],
   "source": [
    "import numpy as np\n",
    "arr = np.arange(15).reshape((3,5))\n",
    "arr"
   ]
  },
  {
   "cell_type": "code",
   "execution_count": 2,
   "id": "8396eb61",
   "metadata": {},
   "outputs": [
    {
     "data": {
      "text/plain": [
       "array([[ 0,  5, 10],\n",
       "       [ 1,  6, 11],\n",
       "       [ 2,  7, 12],\n",
       "       [ 3,  8, 13],\n",
       "       [ 4,  9, 14]])"
      ]
     },
     "execution_count": 2,
     "metadata": {},
     "output_type": "execute_result"
    }
   ],
   "source": [
    "arr.T"
   ]
  },
  {
   "cell_type": "code",
   "execution_count": 3,
   "id": "ca7f1c82",
   "metadata": {},
   "outputs": [
    {
     "data": {
      "text/plain": [
       "array([[ 0,  5, 10],\n",
       "       [ 1,  6, 11],\n",
       "       [ 2,  7, 12],\n",
       "       [ 3,  8, 13],\n",
       "       [ 4,  9, 14]])"
      ]
     },
     "execution_count": 3,
     "metadata": {},
     "output_type": "execute_result"
    }
   ],
   "source": [
    "arr.transpose()"
   ]
  },
  {
   "cell_type": "markdown",
   "id": "31832e69",
   "metadata": {},
   "source": [
    "### 표준 정규 분포\n",
    "- standard normal distribution\n",
    "- 데이터의 평균 : 0 \n",
    "- 표준편차 : 1 \n",
    "- np.random.randn()"
   ]
  },
  {
   "cell_type": "code",
   "execution_count": 5,
   "id": "10c2a60c",
   "metadata": {
    "scrolled": true
   },
   "outputs": [
    {
     "data": {
      "text/plain": [
       "['T',\n",
       " '__abs__',\n",
       " '__add__',\n",
       " '__and__',\n",
       " '__array__',\n",
       " '__array_finalize__',\n",
       " '__array_function__',\n",
       " '__array_interface__',\n",
       " '__array_prepare__',\n",
       " '__array_priority__',\n",
       " '__array_struct__',\n",
       " '__array_ufunc__',\n",
       " '__array_wrap__',\n",
       " '__bool__',\n",
       " '__class__',\n",
       " '__class_getitem__',\n",
       " '__complex__',\n",
       " '__contains__',\n",
       " '__copy__',\n",
       " '__deepcopy__',\n",
       " '__delattr__',\n",
       " '__delitem__',\n",
       " '__dir__',\n",
       " '__divmod__',\n",
       " '__dlpack__',\n",
       " '__dlpack_device__',\n",
       " '__doc__',\n",
       " '__eq__',\n",
       " '__float__',\n",
       " '__floordiv__',\n",
       " '__format__',\n",
       " '__ge__',\n",
       " '__getattribute__',\n",
       " '__getitem__',\n",
       " '__getstate__',\n",
       " '__gt__',\n",
       " '__hash__',\n",
       " '__iadd__',\n",
       " '__iand__',\n",
       " '__ifloordiv__',\n",
       " '__ilshift__',\n",
       " '__imatmul__',\n",
       " '__imod__',\n",
       " '__imul__',\n",
       " '__index__',\n",
       " '__init__',\n",
       " '__init_subclass__',\n",
       " '__int__',\n",
       " '__invert__',\n",
       " '__ior__',\n",
       " '__ipow__',\n",
       " '__irshift__',\n",
       " '__isub__',\n",
       " '__iter__',\n",
       " '__itruediv__',\n",
       " '__ixor__',\n",
       " '__le__',\n",
       " '__len__',\n",
       " '__lshift__',\n",
       " '__lt__',\n",
       " '__matmul__',\n",
       " '__mod__',\n",
       " '__mul__',\n",
       " '__ne__',\n",
       " '__neg__',\n",
       " '__new__',\n",
       " '__or__',\n",
       " '__pos__',\n",
       " '__pow__',\n",
       " '__radd__',\n",
       " '__rand__',\n",
       " '__rdivmod__',\n",
       " '__reduce__',\n",
       " '__reduce_ex__',\n",
       " '__repr__',\n",
       " '__rfloordiv__',\n",
       " '__rlshift__',\n",
       " '__rmatmul__',\n",
       " '__rmod__',\n",
       " '__rmul__',\n",
       " '__ror__',\n",
       " '__rpow__',\n",
       " '__rrshift__',\n",
       " '__rshift__',\n",
       " '__rsub__',\n",
       " '__rtruediv__',\n",
       " '__rxor__',\n",
       " '__setattr__',\n",
       " '__setitem__',\n",
       " '__setstate__',\n",
       " '__sizeof__',\n",
       " '__str__',\n",
       " '__sub__',\n",
       " '__subclasshook__',\n",
       " '__truediv__',\n",
       " '__xor__',\n",
       " 'all',\n",
       " 'any',\n",
       " 'argmax',\n",
       " 'argmin',\n",
       " 'argpartition',\n",
       " 'argsort',\n",
       " 'astype',\n",
       " 'base',\n",
       " 'byteswap',\n",
       " 'choose',\n",
       " 'clip',\n",
       " 'compress',\n",
       " 'conj',\n",
       " 'conjugate',\n",
       " 'copy',\n",
       " 'ctypes',\n",
       " 'cumprod',\n",
       " 'cumsum',\n",
       " 'data',\n",
       " 'diagonal',\n",
       " 'dot',\n",
       " 'dtype',\n",
       " 'dump',\n",
       " 'dumps',\n",
       " 'fill',\n",
       " 'flags',\n",
       " 'flat',\n",
       " 'flatten',\n",
       " 'getfield',\n",
       " 'imag',\n",
       " 'item',\n",
       " 'itemset',\n",
       " 'itemsize',\n",
       " 'max',\n",
       " 'mean',\n",
       " 'min',\n",
       " 'nbytes',\n",
       " 'ndim',\n",
       " 'newbyteorder',\n",
       " 'nonzero',\n",
       " 'partition',\n",
       " 'prod',\n",
       " 'ptp',\n",
       " 'put',\n",
       " 'ravel',\n",
       " 'real',\n",
       " 'repeat',\n",
       " 'reshape',\n",
       " 'resize',\n",
       " 'round',\n",
       " 'searchsorted',\n",
       " 'setfield',\n",
       " 'setflags',\n",
       " 'shape',\n",
       " 'size',\n",
       " 'sort',\n",
       " 'squeeze',\n",
       " 'std',\n",
       " 'strides',\n",
       " 'sum',\n",
       " 'swapaxes',\n",
       " 'take',\n",
       " 'tobytes',\n",
       " 'tofile',\n",
       " 'tolist',\n",
       " 'tostring',\n",
       " 'trace',\n",
       " 'transpose',\n",
       " 'var',\n",
       " 'view']"
      ]
     },
     "execution_count": 5,
     "metadata": {},
     "output_type": "execute_result"
    }
   ],
   "source": [
    "# 전치행렬의 사용 예\n",
    "arr = np.random.randn(6,3)  # n = normal distribution (정규분포)\n",
    "dir(arr)"
   ]
  },
  {
   "cell_type": "code",
   "execution_count": 7,
   "id": "6c456a23",
   "metadata": {},
   "outputs": [
    {
     "data": {
      "text/plain": [
       "(-0.7128905937269998, 0.15457857965610844, 1.762614671116347)"
      ]
     },
     "execution_count": 7,
     "metadata": {},
     "output_type": "execute_result"
    }
   ],
   "source": [
    "arr.min(),arr.mean(),arr.max()"
   ]
  },
  {
   "cell_type": "code",
   "execution_count": 9,
   "id": "9c8782d9",
   "metadata": {},
   "outputs": [
    {
     "data": {
      "text/plain": [
       "(0.07389872560093158, 0.48160338356763543, 0.9734951287258605)"
      ]
     },
     "execution_count": 9,
     "metadata": {},
     "output_type": "execute_result"
    }
   ],
   "source": [
    "arr_1 = np.random.random(18)\n",
    "arr_1.min(), arr_1.mean(), arr_1.max()  # 정규분포가 아님 "
   ]
  },
  {
   "cell_type": "code",
   "execution_count": null,
   "id": "ef783eb4",
   "metadata": {},
   "outputs": [],
   "source": [
    "# 벡터의 내적 연산(Dot Product) A,B \n",
    "np.dot(arr.T,arr)  # dot = 내적"
   ]
  },
  {
   "cell_type": "markdown",
   "id": "d9e31e49",
   "metadata": {},
   "source": [
    "### 유니버설 함수\n",
    "- ndarray 안에 있는 데이터 원소별로 각각 연산을 수행하는 numpy 함수\n",
    "- 레퍼런스:"
   ]
  },
  {
   "cell_type": "code",
   "execution_count": 10,
   "id": "e8d241bf",
   "metadata": {},
   "outputs": [],
   "source": [
    "import numpy as np"
   ]
  },
  {
   "cell_type": "code",
   "execution_count": 12,
   "id": "ea5c43f8",
   "metadata": {},
   "outputs": [
    {
     "data": {
      "text/plain": [
       "array([2, 4, 6])"
      ]
     },
     "execution_count": 12,
     "metadata": {},
     "output_type": "execute_result"
    }
   ],
   "source": [
    "np.array([1,2,3]) * 2    # ndarray와 스칼라 수의 곱셈(함수가 아닌 경우)"
   ]
  },
  {
   "cell_type": "code",
   "execution_count": 15,
   "id": "c1e7823c",
   "metadata": {},
   "outputs": [],
   "source": [
    "arr = np.arange(10)"
   ]
  },
  {
   "cell_type": "code",
   "execution_count": 17,
   "id": "75e7fede",
   "metadata": {},
   "outputs": [
    {
     "name": "stdout",
     "output_type": "stream",
     "text": [
      "[0.         1.         1.41421356 1.73205081 2.         2.23606798\n",
      " 2.44948974 2.64575131 2.82842712 3.        ]\n"
     ]
    }
   ],
   "source": [
    "arr_1 = np.sqrt(arr)\n",
    "print(arr_1)"
   ]
  },
  {
   "cell_type": "code",
   "execution_count": 18,
   "id": "4a21df17",
   "metadata": {},
   "outputs": [
    {
     "data": {
      "text/plain": [
       "array([1.00000000e+00, 2.71828183e+00, 7.38905610e+00, 2.00855369e+01,\n",
       "       5.45981500e+01, 1.48413159e+02, 4.03428793e+02, 1.09663316e+03,\n",
       "       2.98095799e+03, 8.10308393e+03])"
      ]
     },
     "execution_count": 18,
     "metadata": {},
     "output_type": "execute_result"
    }
   ],
   "source": [
    "np.exp(arr)  \n",
    "# 자연상수(E) : 2.7182818283...."
   ]
  },
  {
   "cell_type": "code",
   "execution_count": 19,
   "id": "6d87b5af",
   "metadata": {},
   "outputs": [],
   "source": [
    "x = np.random.randn(8)\n",
    "y = np.random.randn(8)"
   ]
  },
  {
   "cell_type": "code",
   "execution_count": 20,
   "id": "37919cac",
   "metadata": {},
   "outputs": [
    {
     "data": {
      "text/plain": [
       "(array([ 1.05614126,  1.66727272, -0.64763576, -1.0775132 ,  1.40547455,\n",
       "         1.04548546, -0.07007643,  0.78131915]),\n",
       " array([ 0.15266152, -0.46204762,  0.08368293,  0.24690381, -0.53536388,\n",
       "        -0.6826272 , -1.65773938,  0.58237255]))"
      ]
     },
     "execution_count": 20,
     "metadata": {},
     "output_type": "execute_result"
    }
   ],
   "source": [
    "x,y"
   ]
  },
  {
   "cell_type": "code",
   "execution_count": 22,
   "id": "d6c1f881",
   "metadata": {},
   "outputs": [
    {
     "data": {
      "text/plain": [
       "array([ 1.05614126,  1.66727272,  0.08368293,  0.24690381,  1.40547455,\n",
       "        1.04548546, -0.07007643,  0.78131915])"
      ]
     },
     "execution_count": 22,
     "metadata": {},
     "output_type": "execute_result"
    }
   ],
   "source": [
    "np.maximum(x,y)"
   ]
  },
  {
   "cell_type": "code",
   "execution_count": 24,
   "id": "ed5d8150",
   "metadata": {},
   "outputs": [
    {
     "name": "stdout",
     "output_type": "stream",
     "text": [
      "x 배열: [ 0.34190888  0.54690193 -0.77230166 -0.02135352 -0.7229947  -0.32647581\n",
      "  0.08039991 -0.54251358]\n",
      "y 배열: [-0.10394689 -0.06225815  1.85094251 -0.34640834  0.96482449 -0.88819507\n",
      " -2.33919756 -1.61657949]\n",
      "합산 결과: [ 0.23796199  0.48464379  1.07864085 -0.36776186  0.24182979 -1.21467088\n",
      " -2.25879765 -2.15909307]\n"
     ]
    }
   ],
   "source": [
    "# x,y 2개의 배열에 들어 있는 데이터를 각 동일위치의 데이터와 합산\n",
    "import numpy as np\n",
    "\n",
    "x = np.random.randn(8)\n",
    "y = np.random.randn(8)\n",
    "\n",
    "result = np.add(x, y)\n",
    "\n",
    "print(\"x 배열:\", x)\n",
    "print(\"y 배열:\", y)\n",
    "print(\"합산 결과:\", result)\n"
   ]
  },
  {
   "cell_type": "code",
   "execution_count": 27,
   "id": "ce300f1d",
   "metadata": {
    "scrolled": false
   },
   "outputs": [
    {
     "data": {
      "text/plain": [
       "['ALLOW_THREADS',\n",
       " 'AxisError',\n",
       " 'BUFSIZE',\n",
       " 'CLIP',\n",
       " 'ComplexWarning',\n",
       " 'DataSource',\n",
       " 'ERR_CALL',\n",
       " 'ERR_DEFAULT',\n",
       " 'ERR_IGNORE',\n",
       " 'ERR_LOG',\n",
       " 'ERR_PRINT',\n",
       " 'ERR_RAISE',\n",
       " 'ERR_WARN',\n",
       " 'FLOATING_POINT_SUPPORT',\n",
       " 'FPE_DIVIDEBYZERO',\n",
       " 'FPE_INVALID',\n",
       " 'FPE_OVERFLOW',\n",
       " 'FPE_UNDERFLOW',\n",
       " 'False_',\n",
       " 'Inf',\n",
       " 'Infinity',\n",
       " 'MAXDIMS',\n",
       " 'MAY_SHARE_BOUNDS',\n",
       " 'MAY_SHARE_EXACT',\n",
       " 'ModuleDeprecationWarning',\n",
       " 'NAN',\n",
       " 'NINF',\n",
       " 'NZERO',\n",
       " 'NaN',\n",
       " 'PINF',\n",
       " 'PZERO',\n",
       " 'RAISE',\n",
       " 'RankWarning',\n",
       " 'SHIFT_DIVIDEBYZERO',\n",
       " 'SHIFT_INVALID',\n",
       " 'SHIFT_OVERFLOW',\n",
       " 'SHIFT_UNDERFLOW',\n",
       " 'ScalarType',\n",
       " 'Tester',\n",
       " 'TooHardError',\n",
       " 'True_',\n",
       " 'UFUNC_BUFSIZE_DEFAULT',\n",
       " 'UFUNC_PYVALS_NAME',\n",
       " 'VisibleDeprecationWarning',\n",
       " 'WRAP',\n",
       " '_CopyMode',\n",
       " '_NoValue',\n",
       " '_UFUNC_API',\n",
       " '__NUMPY_SETUP__',\n",
       " '__all__',\n",
       " '__builtins__',\n",
       " '__cached__',\n",
       " '__config__',\n",
       " '__deprecated_attrs__',\n",
       " '__dir__',\n",
       " '__doc__',\n",
       " '__expired_functions__',\n",
       " '__file__',\n",
       " '__former_attrs__',\n",
       " '__future_scalars__',\n",
       " '__getattr__',\n",
       " '__git_version__',\n",
       " '__loader__',\n",
       " '__mkl_version__',\n",
       " '__name__',\n",
       " '__package__',\n",
       " '__path__',\n",
       " '__spec__',\n",
       " '__version__',\n",
       " '_add_newdoc_ufunc',\n",
       " '_builtins',\n",
       " '_distributor_init',\n",
       " '_financial_names',\n",
       " '_get_promotion_state',\n",
       " '_globals',\n",
       " '_int_extended_msg',\n",
       " '_mat',\n",
       " '_no_nep50_warning',\n",
       " '_pyinstaller_hooks_dir',\n",
       " '_pytesttester',\n",
       " '_set_promotion_state',\n",
       " '_specific_msg',\n",
       " '_version',\n",
       " 'abs',\n",
       " 'absolute',\n",
       " 'add',\n",
       " 'add_docstring',\n",
       " 'add_newdoc',\n",
       " 'add_newdoc_ufunc',\n",
       " 'all',\n",
       " 'allclose',\n",
       " 'alltrue',\n",
       " 'amax',\n",
       " 'amin',\n",
       " 'angle',\n",
       " 'any',\n",
       " 'append',\n",
       " 'apply_along_axis',\n",
       " 'apply_over_axes',\n",
       " 'arange',\n",
       " 'arccos',\n",
       " 'arccosh',\n",
       " 'arcsin',\n",
       " 'arcsinh',\n",
       " 'arctan',\n",
       " 'arctan2',\n",
       " 'arctanh',\n",
       " 'argmax',\n",
       " 'argmin',\n",
       " 'argpartition',\n",
       " 'argsort',\n",
       " 'argwhere',\n",
       " 'around',\n",
       " 'array',\n",
       " 'array2string',\n",
       " 'array_equal',\n",
       " 'array_equiv',\n",
       " 'array_repr',\n",
       " 'array_split',\n",
       " 'array_str',\n",
       " 'asanyarray',\n",
       " 'asarray',\n",
       " 'asarray_chkfinite',\n",
       " 'ascontiguousarray',\n",
       " 'asfarray',\n",
       " 'asfortranarray',\n",
       " 'asmatrix',\n",
       " 'atleast_1d',\n",
       " 'atleast_2d',\n",
       " 'atleast_3d',\n",
       " 'average',\n",
       " 'bartlett',\n",
       " 'base_repr',\n",
       " 'binary_repr',\n",
       " 'bincount',\n",
       " 'bitwise_and',\n",
       " 'bitwise_not',\n",
       " 'bitwise_or',\n",
       " 'bitwise_xor',\n",
       " 'blackman',\n",
       " 'block',\n",
       " 'bmat',\n",
       " 'bool_',\n",
       " 'broadcast',\n",
       " 'broadcast_arrays',\n",
       " 'broadcast_shapes',\n",
       " 'broadcast_to',\n",
       " 'busday_count',\n",
       " 'busday_offset',\n",
       " 'busdaycalendar',\n",
       " 'byte',\n",
       " 'byte_bounds',\n",
       " 'bytes_',\n",
       " 'c_',\n",
       " 'can_cast',\n",
       " 'cast',\n",
       " 'cbrt',\n",
       " 'cdouble',\n",
       " 'ceil',\n",
       " 'cfloat',\n",
       " 'char',\n",
       " 'character',\n",
       " 'chararray',\n",
       " 'choose',\n",
       " 'clip',\n",
       " 'clongdouble',\n",
       " 'clongfloat',\n",
       " 'column_stack',\n",
       " 'common_type',\n",
       " 'compare_chararrays',\n",
       " 'compat',\n",
       " 'complex128',\n",
       " 'complex64',\n",
       " 'complex_',\n",
       " 'complexfloating',\n",
       " 'compress',\n",
       " 'concatenate',\n",
       " 'conj',\n",
       " 'conjugate',\n",
       " 'convolve',\n",
       " 'copy',\n",
       " 'copysign',\n",
       " 'copyto',\n",
       " 'corrcoef',\n",
       " 'correlate',\n",
       " 'cos',\n",
       " 'cosh',\n",
       " 'count_nonzero',\n",
       " 'cov',\n",
       " 'cross',\n",
       " 'csingle',\n",
       " 'ctypeslib',\n",
       " 'cumprod',\n",
       " 'cumproduct',\n",
       " 'cumsum',\n",
       " 'datetime64',\n",
       " 'datetime_as_string',\n",
       " 'datetime_data',\n",
       " 'deg2rad',\n",
       " 'degrees',\n",
       " 'delete',\n",
       " 'deprecate',\n",
       " 'deprecate_with_doc',\n",
       " 'diag',\n",
       " 'diag_indices',\n",
       " 'diag_indices_from',\n",
       " 'diagflat',\n",
       " 'diagonal',\n",
       " 'diff',\n",
       " 'digitize',\n",
       " 'disp',\n",
       " 'divide',\n",
       " 'divmod',\n",
       " 'dot',\n",
       " 'double',\n",
       " 'dsplit',\n",
       " 'dstack',\n",
       " 'dtype',\n",
       " 'e',\n",
       " 'ediff1d',\n",
       " 'einsum',\n",
       " 'einsum_path',\n",
       " 'emath',\n",
       " 'empty',\n",
       " 'empty_like',\n",
       " 'equal',\n",
       " 'errstate',\n",
       " 'euler_gamma',\n",
       " 'exp',\n",
       " 'exp2',\n",
       " 'expand_dims',\n",
       " 'expm1',\n",
       " 'extract',\n",
       " 'eye',\n",
       " 'fabs',\n",
       " 'fastCopyAndTranspose',\n",
       " 'fft',\n",
       " 'fill_diagonal',\n",
       " 'find_common_type',\n",
       " 'finfo',\n",
       " 'fix',\n",
       " 'flatiter',\n",
       " 'flatnonzero',\n",
       " 'flexible',\n",
       " 'flip',\n",
       " 'fliplr',\n",
       " 'flipud',\n",
       " 'float16',\n",
       " 'float32',\n",
       " 'float64',\n",
       " 'float_',\n",
       " 'float_power',\n",
       " 'floating',\n",
       " 'floor',\n",
       " 'floor_divide',\n",
       " 'fmax',\n",
       " 'fmin',\n",
       " 'fmod',\n",
       " 'format_float_positional',\n",
       " 'format_float_scientific',\n",
       " 'format_parser',\n",
       " 'frexp',\n",
       " 'from_dlpack',\n",
       " 'frombuffer',\n",
       " 'fromfile',\n",
       " 'fromfunction',\n",
       " 'fromiter',\n",
       " 'frompyfunc',\n",
       " 'fromregex',\n",
       " 'fromstring',\n",
       " 'full',\n",
       " 'full_like',\n",
       " 'gcd',\n",
       " 'generic',\n",
       " 'genfromtxt',\n",
       " 'geomspace',\n",
       " 'get_array_wrap',\n",
       " 'get_include',\n",
       " 'get_printoptions',\n",
       " 'getbufsize',\n",
       " 'geterr',\n",
       " 'geterrcall',\n",
       " 'geterrobj',\n",
       " 'gradient',\n",
       " 'greater',\n",
       " 'greater_equal',\n",
       " 'half',\n",
       " 'hamming',\n",
       " 'hanning',\n",
       " 'heaviside',\n",
       " 'histogram',\n",
       " 'histogram2d',\n",
       " 'histogram_bin_edges',\n",
       " 'histogramdd',\n",
       " 'hsplit',\n",
       " 'hstack',\n",
       " 'hypot',\n",
       " 'i0',\n",
       " 'identity',\n",
       " 'iinfo',\n",
       " 'imag',\n",
       " 'in1d',\n",
       " 'index_exp',\n",
       " 'indices',\n",
       " 'inexact',\n",
       " 'inf',\n",
       " 'info',\n",
       " 'infty',\n",
       " 'inner',\n",
       " 'insert',\n",
       " 'int16',\n",
       " 'int32',\n",
       " 'int64',\n",
       " 'int8',\n",
       " 'int_',\n",
       " 'intc',\n",
       " 'integer',\n",
       " 'interp',\n",
       " 'intersect1d',\n",
       " 'intp',\n",
       " 'invert',\n",
       " 'is_busday',\n",
       " 'isclose',\n",
       " 'iscomplex',\n",
       " 'iscomplexobj',\n",
       " 'isfinite',\n",
       " 'isfortran',\n",
       " 'isin',\n",
       " 'isinf',\n",
       " 'isnan',\n",
       " 'isnat',\n",
       " 'isneginf',\n",
       " 'isposinf',\n",
       " 'isreal',\n",
       " 'isrealobj',\n",
       " 'isscalar',\n",
       " 'issctype',\n",
       " 'issubclass_',\n",
       " 'issubdtype',\n",
       " 'issubsctype',\n",
       " 'iterable',\n",
       " 'ix_',\n",
       " 'kaiser',\n",
       " 'kron',\n",
       " 'lcm',\n",
       " 'ldexp',\n",
       " 'left_shift',\n",
       " 'less',\n",
       " 'less_equal',\n",
       " 'lexsort',\n",
       " 'lib',\n",
       " 'linalg',\n",
       " 'linspace',\n",
       " 'little_endian',\n",
       " 'load',\n",
       " 'loadtxt',\n",
       " 'log',\n",
       " 'log10',\n",
       " 'log1p',\n",
       " 'log2',\n",
       " 'logaddexp',\n",
       " 'logaddexp2',\n",
       " 'logical_and',\n",
       " 'logical_not',\n",
       " 'logical_or',\n",
       " 'logical_xor',\n",
       " 'logspace',\n",
       " 'longcomplex',\n",
       " 'longdouble',\n",
       " 'longfloat',\n",
       " 'longlong',\n",
       " 'lookfor',\n",
       " 'ma',\n",
       " 'mask_indices',\n",
       " 'mat',\n",
       " 'math',\n",
       " 'matmul',\n",
       " 'matrix',\n",
       " 'max',\n",
       " 'maximum',\n",
       " 'maximum_sctype',\n",
       " 'may_share_memory',\n",
       " 'mean',\n",
       " 'median',\n",
       " 'memmap',\n",
       " 'meshgrid',\n",
       " 'mgrid',\n",
       " 'min',\n",
       " 'min_scalar_type',\n",
       " 'minimum',\n",
       " 'mintypecode',\n",
       " 'mkl',\n",
       " 'mod',\n",
       " 'modf',\n",
       " 'moveaxis',\n",
       " 'msort',\n",
       " 'multiply',\n",
       " 'nan',\n",
       " 'nan_to_num',\n",
       " 'nanargmax',\n",
       " 'nanargmin',\n",
       " 'nancumprod',\n",
       " 'nancumsum',\n",
       " 'nanmax',\n",
       " 'nanmean',\n",
       " 'nanmedian',\n",
       " 'nanmin',\n",
       " 'nanpercentile',\n",
       " 'nanprod',\n",
       " 'nanquantile',\n",
       " 'nanstd',\n",
       " 'nansum',\n",
       " 'nanvar',\n",
       " 'nbytes',\n",
       " 'ndarray',\n",
       " 'ndenumerate',\n",
       " 'ndim',\n",
       " 'ndindex',\n",
       " 'nditer',\n",
       " 'negative',\n",
       " 'nested_iters',\n",
       " 'newaxis',\n",
       " 'nextafter',\n",
       " 'nonzero',\n",
       " 'not_equal',\n",
       " 'numarray',\n",
       " 'number',\n",
       " 'obj2sctype',\n",
       " 'object_',\n",
       " 'ogrid',\n",
       " 'oldnumeric',\n",
       " 'ones',\n",
       " 'ones_like',\n",
       " 'outer',\n",
       " 'packbits',\n",
       " 'pad',\n",
       " 'partition',\n",
       " 'percentile',\n",
       " 'pi',\n",
       " 'piecewise',\n",
       " 'place',\n",
       " 'poly',\n",
       " 'poly1d',\n",
       " 'polyadd',\n",
       " 'polyder',\n",
       " 'polydiv',\n",
       " 'polyfit',\n",
       " 'polyint',\n",
       " 'polymul',\n",
       " 'polynomial',\n",
       " 'polysub',\n",
       " 'polyval',\n",
       " 'positive',\n",
       " 'power',\n",
       " 'printoptions',\n",
       " 'prod',\n",
       " 'product',\n",
       " 'promote_types',\n",
       " 'ptp',\n",
       " 'put',\n",
       " 'put_along_axis',\n",
       " 'putmask',\n",
       " 'quantile',\n",
       " 'r_',\n",
       " 'rad2deg',\n",
       " 'radians',\n",
       " 'random',\n",
       " 'ravel',\n",
       " 'ravel_multi_index',\n",
       " 'real',\n",
       " 'real_if_close',\n",
       " 'rec',\n",
       " 'recarray',\n",
       " 'recfromcsv',\n",
       " 'recfromtxt',\n",
       " 'reciprocal',\n",
       " 'record',\n",
       " 'remainder',\n",
       " 'repeat',\n",
       " 'require',\n",
       " 'reshape',\n",
       " 'resize',\n",
       " 'result_type',\n",
       " 'right_shift',\n",
       " 'rint',\n",
       " 'roll',\n",
       " 'rollaxis',\n",
       " 'roots',\n",
       " 'rot90',\n",
       " 'round',\n",
       " 'round_',\n",
       " 'row_stack',\n",
       " 's_',\n",
       " 'safe_eval',\n",
       " 'save',\n",
       " 'savetxt',\n",
       " 'savez',\n",
       " 'savez_compressed',\n",
       " 'sctype2char',\n",
       " 'sctypeDict',\n",
       " 'sctypes',\n",
       " 'searchsorted',\n",
       " 'select',\n",
       " 'set_numeric_ops',\n",
       " 'set_printoptions',\n",
       " 'set_string_function',\n",
       " 'setbufsize',\n",
       " 'setdiff1d',\n",
       " 'seterr',\n",
       " 'seterrcall',\n",
       " 'seterrobj',\n",
       " 'setxor1d',\n",
       " 'shape',\n",
       " 'shares_memory',\n",
       " 'short',\n",
       " 'show_config',\n",
       " 'show_runtime',\n",
       " 'sign',\n",
       " 'signbit',\n",
       " 'signedinteger',\n",
       " 'sin',\n",
       " 'sinc',\n",
       " 'single',\n",
       " 'singlecomplex',\n",
       " 'sinh',\n",
       " 'size',\n",
       " 'sometrue',\n",
       " 'sort',\n",
       " 'sort_complex',\n",
       " 'source',\n",
       " 'spacing',\n",
       " 'split',\n",
       " 'sqrt',\n",
       " 'square',\n",
       " 'squeeze',\n",
       " 'stack',\n",
       " 'std',\n",
       " 'str_',\n",
       " 'string_',\n",
       " 'subtract',\n",
       " 'sum',\n",
       " 'swapaxes',\n",
       " 'take',\n",
       " 'take_along_axis',\n",
       " 'tan',\n",
       " 'tanh',\n",
       " 'tensordot',\n",
       " 'test',\n",
       " 'testing',\n",
       " 'tile',\n",
       " 'timedelta64',\n",
       " 'trace',\n",
       " 'tracemalloc_domain',\n",
       " 'transpose',\n",
       " 'trapz',\n",
       " 'tri',\n",
       " 'tril',\n",
       " 'tril_indices',\n",
       " 'tril_indices_from',\n",
       " 'trim_zeros',\n",
       " 'triu',\n",
       " 'triu_indices',\n",
       " 'triu_indices_from',\n",
       " 'true_divide',\n",
       " 'trunc',\n",
       " 'typecodes',\n",
       " 'typename',\n",
       " 'ubyte',\n",
       " 'ufunc',\n",
       " 'uint',\n",
       " 'uint16',\n",
       " 'uint32',\n",
       " 'uint64',\n",
       " 'uint8',\n",
       " 'uintc',\n",
       " 'uintp',\n",
       " 'ulonglong',\n",
       " 'unicode_',\n",
       " 'union1d',\n",
       " 'unique',\n",
       " 'unpackbits',\n",
       " 'unravel_index',\n",
       " 'unsignedinteger',\n",
       " 'unwrap',\n",
       " 'use_hugepage',\n",
       " 'ushort',\n",
       " 'vander',\n",
       " 'var',\n",
       " 'vdot',\n",
       " 'vectorize',\n",
       " 'version',\n",
       " 'void',\n",
       " 'vsplit',\n",
       " 'vstack',\n",
       " 'where',\n",
       " 'who',\n",
       " 'zeros',\n",
       " 'zeros_like']"
      ]
     },
     "execution_count": 27,
     "metadata": {},
     "output_type": "execute_result"
    }
   ],
   "source": [
    "dir(np)"
   ]
  },
  {
   "cell_type": "markdown",
   "id": "1296fdca",
   "metadata": {},
   "source": [
    "### ndarray 함수 vs 일반 반복문을 이용한 계산 속도 비교"
   ]
  },
  {
   "cell_type": "code",
   "execution_count": 28,
   "id": "fb9c958e",
   "metadata": {},
   "outputs": [],
   "source": [
    "import numpy as np"
   ]
  },
  {
   "cell_type": "code",
   "execution_count": 29,
   "id": "4e001002",
   "metadata": {},
   "outputs": [
    {
     "data": {
      "text/plain": [
       "array([0., 1., 2., 3., 4., 5., 6., 7., 8., 9.], dtype=float32)"
      ]
     },
     "execution_count": 29,
     "metadata": {},
     "output_type": "execute_result"
    }
   ],
   "source": [
    "points = np.arange(10000000,dtype='f')\n",
    "points[:10]"
   ]
  },
  {
   "cell_type": "code",
   "execution_count": 30,
   "id": "eeda3f29",
   "metadata": {},
   "outputs": [
    {
     "name": "stdout",
     "output_type": "stream",
     "text": [
      "49999995000000.0\n",
      "CPU times: total: 2.52 s\n",
      "Wall time: 2.52 s\n"
     ]
    }
   ],
   "source": [
    "%%time\n",
    "total = 0\n",
    "for i in points:\n",
    "    total += i\n",
    "print(total)"
   ]
  },
  {
   "cell_type": "code",
   "execution_count": 31,
   "id": "64a497c2",
   "metadata": {},
   "outputs": [
    {
     "name": "stdout",
     "output_type": "stream",
     "text": [
      "CPU times: total: 15.6 ms\n",
      "Wall time: 10.1 ms\n"
     ]
    },
    {
     "data": {
      "text/plain": [
       "50000000000000.0"
      ]
     },
     "execution_count": 31,
     "metadata": {},
     "output_type": "execute_result"
    }
   ],
   "source": [
    "%time points.sum()"
   ]
  },
  {
   "cell_type": "code",
   "execution_count": null,
   "id": "0f296dd2",
   "metadata": {},
   "outputs": [],
   "source": []
  },
  {
   "cell_type": "code",
   "execution_count": 39,
   "id": "b49c79f2",
   "metadata": {},
   "outputs": [
    {
     "name": "stdout",
     "output_type": "stream",
     "text": [
      "<zip object at 0x000001ECE393B040>\n"
     ]
    }
   ],
   "source": [
    "zipObj = zip([1,2,3],['a','b','c'],['가','나','다'])\n",
    "print(zipObj)"
   ]
  },
  {
   "cell_type": "code",
   "execution_count": 40,
   "id": "adef3c9e",
   "metadata": {},
   "outputs": [
    {
     "name": "stdout",
     "output_type": "stream",
     "text": [
      "(1, 'a', '가')\n",
      "(2, 'b', '나')\n",
      "(3, 'c', '다')\n"
     ]
    }
   ],
   "source": [
    "#dir(zipObj)\n",
    "for v in zipObj:\n",
    "    print(v)"
   ]
  },
  {
   "cell_type": "code",
   "execution_count": 41,
   "id": "0d3df2d7",
   "metadata": {},
   "outputs": [
    {
     "data": {
      "text/plain": [
       "[]"
      ]
     },
     "execution_count": 41,
     "metadata": {},
     "output_type": "execute_result"
    }
   ],
   "source": [
    "list(zipObj)   # 위에서 Generator의 값을 소진했기 때문에 여기서는 없다"
   ]
  },
  {
   "cell_type": "code",
   "execution_count": 51,
   "id": "88de9ae5",
   "metadata": {},
   "outputs": [],
   "source": [
    "def sample_gen():\n",
    "    yield 'a'\n",
    "    yield 'b'\n",
    "    yield 'c'"
   ]
  },
  {
   "cell_type": "code",
   "execution_count": 53,
   "id": "8f6b3917",
   "metadata": {},
   "outputs": [],
   "source": [
    "gen1 = sample_gen()"
   ]
  },
  {
   "cell_type": "code",
   "execution_count": 60,
   "id": "2eab4413",
   "metadata": {},
   "outputs": [],
   "source": [
    "def num_gen():\n",
    "    for v in range(1,6):\n",
    "        yield v"
   ]
  },
  {
   "cell_type": "code",
   "execution_count": 61,
   "id": "c61e02bf",
   "metadata": {},
   "outputs": [
    {
     "name": "stdout",
     "output_type": "stream",
     "text": [
      "1 2 3 4 5 "
     ]
    }
   ],
   "source": [
    "for v in num_gen():\n",
    "    print(v,end=\" \")"
   ]
  },
  {
   "cell_type": "code",
   "execution_count": 57,
   "id": "85189df7",
   "metadata": {},
   "outputs": [
    {
     "data": {
      "text/plain": [
       "['1', '2', '3', '4', '5']"
      ]
     },
     "execution_count": 57,
     "metadata": {},
     "output_type": "execute_result"
    }
   ],
   "source": [
    "list(gen2)"
   ]
  },
  {
   "cell_type": "code",
   "execution_count": 52,
   "id": "c4465f7d",
   "metadata": {},
   "outputs": [
    {
     "data": {
      "text/plain": [
       "[]"
      ]
     },
     "execution_count": 52,
     "metadata": {},
     "output_type": "execute_result"
    }
   ],
   "source": [
    "list(gen1)"
   ]
  },
  {
   "cell_type": "code",
   "execution_count": 71,
   "id": "45b13263",
   "metadata": {},
   "outputs": [
    {
     "name": "stdout",
     "output_type": "stream",
     "text": [
      "<generator object <genexpr> at 0x000001ECE40C36B0>\n"
     ]
    }
   ],
   "source": [
    "# Generator Comprehension\n",
    "gen2 = ( v for v in range(1,6) )\n",
    "print(gen2)"
   ]
  },
  {
   "cell_type": "code",
   "execution_count": 72,
   "id": "6ee69f7b",
   "metadata": {},
   "outputs": [
    {
     "name": "stdout",
     "output_type": "stream",
     "text": [
      "1 2 3 4 5 "
     ]
    }
   ],
   "source": [
    "for v in gen2:\n",
    "    print(v,end=\" \")"
   ]
  },
  {
   "cell_type": "code",
   "execution_count": 54,
   "id": "c796faee",
   "metadata": {},
   "outputs": [
    {
     "name": "stdout",
     "output_type": "stream",
     "text": [
      "a,b,c,"
     ]
    }
   ],
   "source": [
    "for v in gen1:\n",
    "    print(v, end=\",\")"
   ]
  },
  {
   "cell_type": "code",
   "execution_count": 73,
   "id": "922d5a16",
   "metadata": {},
   "outputs": [
    {
     "name": "stdout",
     "output_type": "stream",
     "text": [
      "1\n",
      "2\n"
     ]
    }
   ],
   "source": [
    "# Generator 에 대해 루프를 사용하지 않고 값을 한개씩 추출하기\n",
    "gen = num_gen()\n",
    "print(next(gen))\n",
    "print(next(gen))"
   ]
  },
  {
   "cell_type": "code",
   "execution_count": 76,
   "id": "70b097b5",
   "metadata": {},
   "outputs": [],
   "source": [
    "xarr = np.array([1.1,1.2,1.3,1.4,1.5])\n",
    "yarr = np.array([2.1,2.2,2.3,2.4,2.5])\n",
    "cond = np.array([True,False,True,True,False])"
   ]
  },
  {
   "cell_type": "code",
   "execution_count": 77,
   "id": "bcab058e",
   "metadata": {},
   "outputs": [
    {
     "data": {
      "text/plain": [
       "[1.1, 2.2, 1.3, 1.4, 2.5]"
      ]
     },
     "execution_count": 77,
     "metadata": {},
     "output_type": "execute_result"
    }
   ],
   "source": [
    "result = [(x if c else y) for x,y,c in zip(xarr,yarr,cond)]\n",
    "result"
   ]
  },
  {
   "cell_type": "code",
   "execution_count": 78,
   "id": "4e6e3329",
   "metadata": {},
   "outputs": [
    {
     "data": {
      "text/plain": [
       "array([1.1, 2.2, 1.3, 1.4, 2.5])"
      ]
     },
     "execution_count": 78,
     "metadata": {},
     "output_type": "execute_result"
    }
   ],
   "source": [
    "result = np.where(cond,xarr,yarr)\n",
    "result"
   ]
  },
  {
   "cell_type": "code",
   "execution_count": null,
   "id": "4ca3c1e7",
   "metadata": {},
   "outputs": [],
   "source": [
    "### Generator를 이용하여 텍스트 파일에서 한행씩 가져오는 예\n",
    "- 파일명 : members.txt\n",
    "- member(num,name,phone)\n",
    "- 한행씩 Generator를 이용하여 가져와서 화면에 목록으로 표시하기"
   ]
  },
  {
   "cell_type": "code",
   "execution_count": 80,
   "id": "36c13ced",
   "metadata": {},
   "outputs": [
    {
     "name": "stdout",
     "output_type": "stream",
     "text": [
      "Member: 1 Lee 010-1111-2222\n",
      "Member: 2 Park 010-2222-3333\n",
      "Member: 3 Choi 010-3333-4444\n"
     ]
    }
   ],
   "source": [
    "class Member:\n",
    "    def __init__(self, num, name, phone):\n",
    "        self.num = num\n",
    "        self.name = name\n",
    "        self.phone = phone\n",
    "\n",
    "def read_members_file(filename):\n",
    "    with open(filename, 'r') as file:\n",
    "        for line in file:\n",
    "            num, name, phone = line.strip().split(',')\n",
    "            yield Member(num, name, phone)\n",
    "\n",
    "# members.txt 파일로부터 한 줄씩 Member 객체를 생성하는 제네레이터를 생성합니다.\n",
    "members_generator = read_members_file('D:/test/members.txt')\n",
    "\n",
    "# 제네레이터를 이용하여 파일의 내용을 한 줄씩 처리합니다.\n",
    "for member in members_generator:\n",
    "    print(\"Member:\", member.num, member.name, member.phone)\n"
   ]
  },
  {
   "cell_type": "code",
   "execution_count": 84,
   "id": "68ef2d61",
   "metadata": {},
   "outputs": [
    {
     "data": {
      "text/plain": [
       "array([[ 0.34993288, -0.6046164 , -1.64591933,  0.25418968],\n",
       "       [ 2.00449785, -0.29842461, -0.15946016,  0.16736783],\n",
       "       [-0.53871771, -0.17961968, -0.98890566, -1.39072741],\n",
       "       [ 1.06509445, -1.20134817, -0.93180735,  0.95982319]])"
      ]
     },
     "execution_count": 84,
     "metadata": {},
     "output_type": "execute_result"
    }
   ],
   "source": [
    "arr = np.random.randn(4,4)\n",
    "arr"
   ]
  },
  {
   "cell_type": "code",
   "execution_count": 85,
   "id": "fc53e657",
   "metadata": {
    "scrolled": true
   },
   "outputs": [
    {
     "data": {
      "text/plain": [
       "array([[ True, False, False,  True],\n",
       "       [ True, False, False,  True],\n",
       "       [False, False, False, False],\n",
       "       [ True, False, False,  True]])"
      ]
     },
     "execution_count": 85,
     "metadata": {},
     "output_type": "execute_result"
    }
   ],
   "source": [
    "arr>0"
   ]
  },
  {
   "cell_type": "code",
   "execution_count": 86,
   "id": "08c56e5d",
   "metadata": {},
   "outputs": [
    {
     "data": {
      "text/plain": [
       "array([[ 2, -2, -2,  2],\n",
       "       [ 2, -2, -2,  2],\n",
       "       [-2, -2, -2, -2],\n",
       "       [ 2, -2, -2,  2]])"
      ]
     },
     "execution_count": 86,
     "metadata": {},
     "output_type": "execute_result"
    }
   ],
   "source": [
    "np.where(arr>0,2,-2)"
   ]
  },
  {
   "cell_type": "code",
   "execution_count": 87,
   "id": "94fe9776",
   "metadata": {},
   "outputs": [
    {
     "data": {
      "text/plain": [
       "array([[ 2.        , -0.6046164 , -1.64591933,  2.        ],\n",
       "       [ 2.        , -0.29842461, -0.15946016,  2.        ],\n",
       "       [-0.53871771, -0.17961968, -0.98890566, -1.39072741],\n",
       "       [ 2.        , -1.20134817, -0.93180735,  2.        ]])"
      ]
     },
     "execution_count": 87,
     "metadata": {},
     "output_type": "execute_result"
    }
   ],
   "source": [
    "np.where(arr>0,2,arr)"
   ]
  },
  {
   "cell_type": "markdown",
   "id": "d09193c9",
   "metadata": {},
   "source": [
    "### 수학 메소드와 통계"
   ]
  },
  {
   "cell_type": "code",
   "execution_count": 88,
   "id": "6216661e",
   "metadata": {},
   "outputs": [
    {
     "data": {
      "text/plain": [
       "array([[ 0.00464633, -1.76214696, -0.04497371, -1.39632584],\n",
       "       [ 0.76328093,  0.23818382,  0.28605323,  0.83749686],\n",
       "       [ 0.13932562,  2.36507945, -0.48493169, -0.9117908 ],\n",
       "       [-0.93800415,  1.28608371, -1.14298721, -0.47682086],\n",
       "       [ 0.235008  , -0.17853078, -0.64604027, -0.66706309]])"
      ]
     },
     "execution_count": 88,
     "metadata": {},
     "output_type": "execute_result"
    }
   ],
   "source": [
    "arr = np.random.randn(5,4)\n",
    "arr"
   ]
  },
  {
   "cell_type": "code",
   "execution_count": 89,
   "id": "85a22a9f",
   "metadata": {},
   "outputs": [
    {
     "data": {
      "text/plain": [
       "(-0.12472287067824184, -0.12472287067824184)"
      ]
     },
     "execution_count": 89,
     "metadata": {},
     "output_type": "execute_result"
    }
   ],
   "source": [
    "arr.mean(),np.mean(arr)"
   ]
  },
  {
   "cell_type": "code",
   "execution_count": 91,
   "id": "cd05e818",
   "metadata": {},
   "outputs": [
    {
     "data": {
      "text/plain": [
       "(-2.4944574135648367, -2.4944574135648367)"
      ]
     },
     "execution_count": 91,
     "metadata": {},
     "output_type": "execute_result"
    }
   ],
   "source": [
    "arr.sum() , np.sum(arr)"
   ]
  },
  {
   "cell_type": "markdown",
   "id": "e46725c8",
   "metadata": {},
   "source": [
    "## 연산 축(axis)방향\n",
    "- 행방향(행끼리의 계산) : 0, 세로 연산\n",
    "- 열방향(열끼리의 계산) : 1, 가로 연산"
   ]
  },
  {
   "cell_type": "code",
   "execution_count": 92,
   "id": "ab30c705",
   "metadata": {},
   "outputs": [
    {
     "data": {
      "text/plain": [
       "array([[0, 1, 2],\n",
       "       [3, 4, 5],\n",
       "       [6, 7, 8]])"
      ]
     },
     "execution_count": 92,
     "metadata": {},
     "output_type": "execute_result"
    }
   ],
   "source": [
    "arr = np.arange(9).reshape(3,3)\n",
    "arr"
   ]
  },
  {
   "cell_type": "code",
   "execution_count": 93,
   "id": "b52e4f0f",
   "metadata": {},
   "outputs": [
    {
     "data": {
      "text/plain": [
       "36"
      ]
     },
     "execution_count": 93,
     "metadata": {},
     "output_type": "execute_result"
    }
   ],
   "source": [
    "arr.sum()  # 36, 원소 전체의 합"
   ]
  },
  {
   "cell_type": "code",
   "execution_count": 94,
   "id": "67a62bec",
   "metadata": {},
   "outputs": [
    {
     "data": {
      "text/plain": [
       "array([ 9, 12, 15])"
      ]
     },
     "execution_count": 94,
     "metadata": {},
     "output_type": "execute_result"
    }
   ],
   "source": [
    "arr.sum(axis=0)  # 행들의 합(행끼리의 합), 세로 합 "
   ]
  },
  {
   "cell_type": "code",
   "execution_count": 95,
   "id": "27971fcb",
   "metadata": {},
   "outputs": [
    {
     "data": {
      "text/plain": [
       "array([ 9, 12, 15])"
      ]
     },
     "execution_count": 95,
     "metadata": {},
     "output_type": "execute_result"
    }
   ],
   "source": [
    "arr.sum(0)"
   ]
  },
  {
   "cell_type": "code",
   "execution_count": 96,
   "id": "6fe05f52",
   "metadata": {},
   "outputs": [
    {
     "data": {
      "text/plain": [
       "array([ 3, 12, 21])"
      ]
     },
     "execution_count": 96,
     "metadata": {},
     "output_type": "execute_result"
    }
   ],
   "source": [
    "arr.sum(axis=1) # 열들의 합(열끼리의 합), 가로 합"
   ]
  },
  {
   "cell_type": "code",
   "execution_count": 97,
   "id": "c2fd7d9f",
   "metadata": {},
   "outputs": [
    {
     "data": {
      "text/plain": [
       "array([1., 4., 7.])"
      ]
     },
     "execution_count": 97,
     "metadata": {},
     "output_type": "execute_result"
    }
   ],
   "source": [
    "arr.mean(axis=1) # 열들의 평균, 가로 평균"
   ]
  },
  {
   "cell_type": "markdown",
   "id": "892210b7",
   "metadata": {},
   "source": [
    "## 누적연산\n",
    "- arr.cumsum():누적 합산마다 산출되는 값 배열 리턴\n",
    "- arr.cumprod():누적 곱 과정마다 산출되는 값 배열 리턴"
   ]
  },
  {
   "cell_type": "code",
   "execution_count": 98,
   "id": "8eced6bc",
   "metadata": {},
   "outputs": [
    {
     "data": {
      "text/plain": [
       "array([[0, 1, 2],\n",
       "       [3, 4, 5],\n",
       "       [6, 7, 8]])"
      ]
     },
     "execution_count": 98,
     "metadata": {},
     "output_type": "execute_result"
    }
   ],
   "source": [
    "arr = np.arange(9).reshape((3,3))\n",
    "arr"
   ]
  },
  {
   "cell_type": "code",
   "execution_count": 99,
   "id": "9cbd6469",
   "metadata": {},
   "outputs": [
    {
     "data": {
      "text/plain": [
       "array([ 0,  1,  3,  6, 10, 15, 21, 28, 36])"
      ]
     },
     "execution_count": 99,
     "metadata": {},
     "output_type": "execute_result"
    }
   ],
   "source": [
    "arr.cumsum()  # 전체에 대한 누적 합 과정의 산출 값 배열"
   ]
  },
  {
   "cell_type": "code",
   "execution_count": 100,
   "id": "692dd8f7",
   "metadata": {},
   "outputs": [
    {
     "data": {
      "text/plain": [
       "array([[ 0,  1,  2],\n",
       "       [ 3,  5,  7],\n",
       "       [ 9, 12, 15]])"
      ]
     },
     "execution_count": 100,
     "metadata": {},
     "output_type": "execute_result"
    }
   ],
   "source": [
    "arr.cumsum(axis=0)  # 행들의 누적 합, 세로 누적 합"
   ]
  },
  {
   "cell_type": "code",
   "execution_count": 101,
   "id": "9b6680fc",
   "metadata": {},
   "outputs": [
    {
     "data": {
      "text/plain": [
       "array([[ 0,  1,  3],\n",
       "       [ 3,  7, 12],\n",
       "       [ 6, 13, 21]])"
      ]
     },
     "execution_count": 101,
     "metadata": {},
     "output_type": "execute_result"
    }
   ],
   "source": [
    "arr.cumsum(axis=1)"
   ]
  },
  {
   "cell_type": "code",
   "execution_count": 102,
   "id": "cb9037f1",
   "metadata": {},
   "outputs": [
    {
     "data": {
      "text/plain": [
       "array([0, 0, 0, 0, 0, 0, 0, 0, 0])"
      ]
     },
     "execution_count": 102,
     "metadata": {},
     "output_type": "execute_result"
    }
   ],
   "source": [
    "arr.cumprod() # 전체 누적 곱"
   ]
  },
  {
   "cell_type": "code",
   "execution_count": 103,
   "id": "e2612a3d",
   "metadata": {},
   "outputs": [
    {
     "data": {
      "text/plain": [
       "array([[ 0,  1,  2],\n",
       "       [ 0,  4, 10],\n",
       "       [ 0, 28, 80]])"
      ]
     },
     "execution_count": 103,
     "metadata": {},
     "output_type": "execute_result"
    }
   ],
   "source": [
    "arr.cumprod(axis=0)  # 누적 곱 과정 배열"
   ]
  },
  {
   "cell_type": "code",
   "execution_count": 104,
   "id": "afd21260",
   "metadata": {},
   "outputs": [
    {
     "data": {
      "text/plain": [
       "array([[  0,   0,   0],\n",
       "       [  3,  12,  60],\n",
       "       [  6,  42, 336]])"
      ]
     },
     "execution_count": 104,
     "metadata": {},
     "output_type": "execute_result"
    }
   ],
   "source": [
    "arr.cumprod(axis=1)"
   ]
  },
  {
   "cell_type": "markdown",
   "id": "f67259a7",
   "metadata": {},
   "source": [
    "## 통계 메소드\n",
    "- var : sum ((arr-m) ^2) / N\n",
    "- std : sqrt(var)"
   ]
  },
  {
   "cell_type": "code",
   "execution_count": 106,
   "id": "b64ad08e",
   "metadata": {},
   "outputs": [],
   "source": [
    "np.random.seed(0)"
   ]
  },
  {
   "cell_type": "code",
   "execution_count": 110,
   "id": "398e1658",
   "metadata": {},
   "outputs": [],
   "source": [
    "# 분산 구하기(수동으로 구하기)\n",
    "arr = np.arange(5)"
   ]
  },
  {
   "cell_type": "code",
   "execution_count": 108,
   "id": "51d9f1cc",
   "metadata": {},
   "outputs": [
    {
     "name": "stdout",
     "output_type": "stream",
     "text": [
      "분산: 2.0\n",
      "표준편차: 1.4142135623730951\n"
     ]
    }
   ],
   "source": [
    "import numpy as np\n",
    "\n",
    "arr = np.arange(5)\n",
    "\n",
    "# 평균 계산\n",
    "m = np.mean(arr)\n",
    "\n",
    "# 분산 계산\n",
    "squared_diff = (arr - m)**2\n",
    "var = np.sum(squared_diff) / len(arr)\n",
    "\n",
    "# 표준편차 계산\n",
    "std = np.sqrt(var)\n",
    "\n",
    "print(\"분산:\", var)\n",
    "print(\"표준편차:\", std)\n"
   ]
  },
  {
   "cell_type": "code",
   "execution_count": 112,
   "id": "58c5f5b3",
   "metadata": {},
   "outputs": [
    {
     "name": "stdout",
     "output_type": "stream",
     "text": [
      "분산: 2.0\n",
      "표준편차: 1.4142135623730951\n"
     ]
    }
   ],
   "source": [
    "arr = np.arange(5)\n",
    "\n",
    "m = np.mean(arr)\n",
    "\n",
    "a = (arr-m)**2\n",
    "var = np.sum(a) / len(arr)\n",
    "\n",
    "std = np.sqrt(var)\n",
    "\n",
    "print(\"분산:\",var)\n",
    "print(\"표준편차:\",std)"
   ]
  },
  {
   "cell_type": "code",
   "execution_count": 105,
   "id": "e190111d",
   "metadata": {},
   "outputs": [],
   "source": [
    "arr = np.random.randn(100)"
   ]
  },
  {
   "cell_type": "code",
   "execution_count": 114,
   "id": "ceb4a1fc",
   "metadata": {},
   "outputs": [
    {
     "data": {
      "text/plain": [
       "4"
      ]
     },
     "execution_count": 114,
     "metadata": {},
     "output_type": "execute_result"
    }
   ],
   "source": [
    "max_idx = arr.argmax()\n",
    "arr[max_idx]   # 4 "
   ]
  },
  {
   "cell_type": "code",
   "execution_count": 116,
   "id": "e08fb54d",
   "metadata": {},
   "outputs": [
    {
     "data": {
      "text/plain": [
       "0"
      ]
     },
     "execution_count": 116,
     "metadata": {},
     "output_type": "execute_result"
    }
   ],
   "source": [
    "min_idx = arr.argmin()\n",
    "arr[min_idx]   # 0 "
   ]
  },
  {
   "cell_type": "code",
   "execution_count": 118,
   "id": "0cc6a56a",
   "metadata": {},
   "outputs": [],
   "source": [
    "# 무작위 실수 10개를 추출하여 그 중 최소/최대값의 인덱스를 구해보세요\n",
    "np.random.seed(0)"
   ]
  },
  {
   "cell_type": "code",
   "execution_count": 122,
   "id": "0d95ddb0",
   "metadata": {},
   "outputs": [
    {
     "name": "stdout",
     "output_type": "stream",
     "text": [
      "무작위 실수 배열: [0.5488135  0.71518937 0.60276338 0.54488318 0.4236548  0.64589411\n",
      " 0.43758721 0.891773   0.96366276 0.38344152]\n",
      "최소값 인덱스: 9\n",
      "최대값 인덱스: 8\n"
     ]
    }
   ],
   "source": [
    "import numpy as np\n",
    "\n",
    "# 시드 설정\n",
    "np.random.seed(0)\n",
    "\n",
    "# 무작위 실수 10개 추출\n",
    "random_numbers = np.random.rand(10)\n",
    "\n",
    "# 최소값과 최대값의 인덱스 구하기\n",
    "min_index = np.argmin(random_numbers)\n",
    "max_index = np.argmax(random_numbers)\n",
    "\n",
    "print(\"무작위 실수 배열:\", random_numbers)\n",
    "print(\"최소값 인덱스:\", min_index)\n",
    "print(\"최대값 인덱스:\", max_index)"
   ]
  },
  {
   "cell_type": "code",
   "execution_count": 123,
   "id": "afda0dbe",
   "metadata": {},
   "outputs": [],
   "source": [
    "arr = np.random.randn(100)"
   ]
  },
  {
   "cell_type": "code",
   "execution_count": 125,
   "id": "0e7e4e7d",
   "metadata": {},
   "outputs": [
    {
     "data": {
      "text/plain": [
       "53"
      ]
     },
     "execution_count": 125,
     "metadata": {},
     "output_type": "execute_result"
    }
   ],
   "source": [
    "(arr > 0).sum()   # 0보다 큰 수의 갯수"
   ]
  },
  {
   "cell_type": "markdown",
   "id": "c687bd8c",
   "metadata": {},
   "source": [
    "### 정렬\n",
    "- np.sort(arr) : 원본을 변경하지 않고 정렬된 사본을 리턴함\n",
    "- arr.sort() : 원본을 변경하고 값을 리턴하지 않음"
   ]
  },
  {
   "cell_type": "code",
   "execution_count": 129,
   "id": "807eee42",
   "metadata": {},
   "outputs": [
    {
     "name": "stdout",
     "output_type": "stream",
     "text": [
      "원본 배열: [2 3 4 5 6]\n",
      "정렬된 사본: [2 3 4 5 6]\n"
     ]
    }
   ],
   "source": [
    "import numpy as np\n",
    "\n",
    "# 원본 배열 생성\n",
    "arr = np.array([2,5,3,6,4])\n",
    "\n",
    "# np.sort(arr)를 사용하여 정렬된 사본 생성 (원본 변경 없음)\n",
    "sorted_copy = np.sort(arr)\n",
    "\n",
    "# arr.sort()를 사용하여 원본 배열 정렬 (원본이 변경됨)\n",
    "arr.sort()\n",
    "\n",
    "# 결과 출력\n",
    "print(\"원본 배열:\", arr)\n",
    "print(\"정렬된 사본:\", sorted_copy)"
   ]
  },
  {
   "cell_type": "code",
   "execution_count": 132,
   "id": "a2863c20",
   "metadata": {
    "scrolled": true
   },
   "outputs": [
    {
     "data": {
      "text/plain": [
       "array([[0.57432525, 0.65320082, 0.65210327, 0.43141844],\n",
       "       [0.8965466 , 0.36756187, 0.43586493, 0.89192336],\n",
       "       [0.80619399, 0.70388858, 0.10022689, 0.91948261],\n",
       "       [0.7142413 , 0.99884701, 0.1494483 , 0.86812606]])"
      ]
     },
     "execution_count": 132,
     "metadata": {},
     "output_type": "execute_result"
    }
   ],
   "source": [
    "arr = np.random.random(16).reshape((4,4))\n",
    "arr"
   ]
  },
  {
   "cell_type": "code",
   "execution_count": 133,
   "id": "31027a76",
   "metadata": {
    "scrolled": true
   },
   "outputs": [
    {
     "name": "stdout",
     "output_type": "stream",
     "text": [
      "가로 정렬:\n",
      "[[0.43141844 0.57432525 0.65210327 0.65320082]\n",
      " [0.36756187 0.43586493 0.89192336 0.8965466 ]\n",
      " [0.10022689 0.70388858 0.80619399 0.91948261]\n",
      " [0.1494483  0.7142413  0.86812606 0.99884701]]\n"
     ]
    }
   ],
   "source": [
    "arr_horizontal_sorted = np.sort(arr, axis=1)  # 가로 정렬\n",
    "print(\"가로 정렬:\")\n",
    "print(arr_horizontal_sorted)\n"
   ]
  },
  {
   "cell_type": "code",
   "execution_count": 136,
   "id": "966a7463",
   "metadata": {
    "scrolled": true
   },
   "outputs": [
    {
     "name": "stdout",
     "output_type": "stream",
     "text": [
      "세로 정렬:\n",
      "[[0.57432525 0.36756187 0.10022689 0.43141844]\n",
      " [0.7142413  0.65320082 0.1494483  0.86812606]\n",
      " [0.80619399 0.70388858 0.43586493 0.89192336]\n",
      " [0.8965466  0.99884701 0.65210327 0.91948261]]\n"
     ]
    }
   ],
   "source": [
    "arr_vertical_sorted = np.sort(arr, axis=0)\n",
    "print(\"세로 정렬:\")\n",
    "print(arr_vertical_sorted)"
   ]
  },
  {
   "cell_type": "code",
   "execution_count": null,
   "id": "512262c2",
   "metadata": {},
   "outputs": [],
   "source": [
    "# 교집합 : intersect1d(x,y)\n",
    "# 합집합 : union1d(x,y)\n",
    "# in1d(x,y) : y가 x의 멤버인가? \n",
    "# 차집합 : setdiff1d(x,y)\n",
    "# 대칭차집합 : setxor1d(x,y), 한집합에는 포함되나, 두 집합 모두에는 없는 원소"
   ]
  },
  {
   "cell_type": "code",
   "execution_count": 138,
   "id": "1b565025",
   "metadata": {},
   "outputs": [
    {
     "name": "stdout",
     "output_type": "stream",
     "text": [
      "교집합: [4 5 6]\n",
      "합집합: [1 2 3 4 5 6 7 8 9]\n",
      "x가 y의 멤버인가? [False False False  True  True  True]\n",
      "차집합: [1 2 3]\n",
      "대칭 차집합: [1 2 3 7 8 9]\n"
     ]
    }
   ],
   "source": [
    "import numpy as np\n",
    "\n",
    "# 두 배열 생성\n",
    "x = np.array([1, 2, 3, 4, 5, 6])\n",
    "y = np.array([4, 5, 6, 7, 8, 9])\n",
    "\n",
    "# 교집합\n",
    "intersection = np.intersect1d(x, y)\n",
    "print(\"교집합:\", intersection)\n",
    "\n",
    "# 합집합\n",
    "union = np.union1d(x, y)\n",
    "print(\"합집합:\", union)\n",
    "\n",
    "# y가 x의 멤버인가?\n",
    "membership = np.in1d(x, y)\n",
    "print(\"y가 x의 멤버인가?\", membership)\n",
    "\n",
    "# 차집합\n",
    "difference = np.setdiff1d(x, y)\n",
    "print(\"차집합:\", difference)\n",
    "\n",
    "# 대칭 차집합 -> 합집합에서 교집합 성분을 뺀 것 \n",
    "symmetric_difference = np.setxor1d(x, y)\n",
    "print(\"대칭 차집합:\", symmetric_difference)\n"
   ]
  }
 ],
 "metadata": {
  "kernelspec": {
   "display_name": "Python 3 (ipykernel)",
   "language": "python",
   "name": "python3"
  },
  "language_info": {
   "codemirror_mode": {
    "name": "ipython",
    "version": 3
   },
   "file_extension": ".py",
   "mimetype": "text/x-python",
   "name": "python",
   "nbconvert_exporter": "python",
   "pygments_lexer": "ipython3",
   "version": "3.11.3"
  }
 },
 "nbformat": 4,
 "nbformat_minor": 5
}
