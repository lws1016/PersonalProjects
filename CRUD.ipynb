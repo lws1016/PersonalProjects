{
 "cells": [
  {
   "cell_type": "code",
   "execution_count": 7,
   "id": "c98586c5",
   "metadata": {},
   "outputs": [],
   "source": [
    "def add_pet ():\n",
    "    pet_id = int(input('pet_id:'))\n",
    "    species = input('species:')\n",
    "    weight = input('weight:')\n",
    "    length = input('length:')\n",
    "        \n",
    "    pet.append({'id':pet_id,'species':species,'weight':weight,'length':length})\n",
    "    print(\"애완동물 추가 완료\")    \n",
    "        \n",
    "        "
   ]
  },
  {
   "cell_type": "code",
   "execution_count": 4,
   "id": "8eb273e5",
   "metadata": {},
   "outputs": [],
   "source": [
    "pet = []"
   ]
  },
  {
   "cell_type": "code",
   "execution_count": 12,
   "id": "02c15ae4",
   "metadata": {},
   "outputs": [],
   "source": [
    "def show_pet_list(petlist):\n",
    "    for pet in petlist:\n",
    "        print(pet)"
   ]
  },
  {
   "cell_type": "code",
   "execution_count": 15,
   "id": "6cad8d12",
   "metadata": {},
   "outputs": [],
   "source": [
    "def find (petlist, pet_id):\n",
    "    for pet in petlist:\n",
    "        if pet['id'] == pet_id:\n",
    "            return pet\n",
    "    return None"
   ]
  },
  {
   "cell_type": "code",
   "execution_count": 6,
   "id": "4fe431c0",
   "metadata": {},
   "outputs": [],
   "source": [
    "def update(petlist, pet_id):\n",
    "    pet = search_pet(pet_list, pet_id)\n",
    "    if pet:\n",
    "        print(\"검색된 애완동물 정보:\")\n",
    "        print(pet)\n",
    "        pet['species'] = input(\"수정할 종 입력: \")\n",
    "        pet['weight'] = input(\"수정할 무게 입력: \")\n",
    "        pet['length'] = input(\"수정할 길이 입력: \")\n",
    "        save_to_file(pet_list)\n",
    "        print(\"애완동물 정보가 수정되었습니다.\")\n",
    "    else:\n",
    "        print(\"검색된 애완동물 정보가 없습니다.\")\n"
   ]
  },
  {
   "cell_type": "code",
   "execution_count": 3,
   "id": "f583b620",
   "metadata": {},
   "outputs": [],
   "source": [
    "def delete(petlist, pet_id):\n",
    "    pet = find(petlist, pet_id)\n",
    "    if pet:\n",
    "        pet_list.remove(pet)\n",
    "        save_to_file(petlist)\n",
    "        print(\"애완동물 정보가 삭제되었습니다.\")\n",
    "    else:\n",
    "        print(\"검색된 애완동물 정보가 없습니다.\")\n"
   ]
  },
  {
   "cell_type": "code",
   "execution_count": 2,
   "id": "26ad35f8",
   "metadata": {},
   "outputs": [],
   "source": [
    "def find(petlist,pet_id):\n",
    "    pet_id = input(\"검색할 애완동물 id 입력: \")\n",
    "\n",
    "    for pet in petlist:\n",
    "        if pet['id'] == pet_id:\n",
    "            print(\"검색된 애완동물 정보:\")\n",
    "            print(pet)\n",
    "            return\n",
    "\n",
    "    print(\"검색된 애완동물 정보가 없습니다.\")\n"
   ]
  },
  {
   "cell_type": "code",
   "execution_count": 18,
   "id": "9d761e1c",
   "metadata": {},
   "outputs": [],
   "source": [
    "def save_to_file(petlist):\n",
    "    with open('D:/test/pet.txt', mode='a') as fout:\n",
    "        for pet in petlist:\n",
    "            fout.write(f\"{pet['id']},{pet['species']},{pet['weight']},{pet['length']}\\n\")"
   ]
  },
  {
   "cell_type": "code",
   "execution_count": 11,
   "id": "6b76961d",
   "metadata": {},
   "outputs": [],
   "source": [
    "def load_from_file():\n",
    "    petlist = []\n",
    "    try:\n",
    "        with open('D:/test/pet.txt','r', encoding='utf-8') as fin:\n",
    "            for line in fin:\n",
    "                pet_id, species, weight, length = line.strip().split(',')\n",
    "                petlist.append({'id': pet_id, 'species': species, 'weight': weight, 'length': length})\n",
    "    except FileNotFoundError:\n",
    "        pass\n",
    "    return petlist"
   ]
  },
  {
   "cell_type": "code",
   "execution_count": 16,
   "id": "ca54b01f",
   "metadata": {},
   "outputs": [
    {
     "name": "stdout",
     "output_type": "stream",
     "text": [
      "추가(a), 목록(s), 수정(u), 검색(f), 삭제(d), 종료(x)f\n",
      "검색할 애완동물 id 입력: 1\n"
     ]
    },
    {
     "ename": "NameError",
     "evalue": "name 'petlist' is not defined",
     "output_type": "error",
     "traceback": [
      "\u001b[1;31m---------------------------------------------------------------------------\u001b[0m",
      "\u001b[1;31mNameError\u001b[0m                                 Traceback (most recent call last)",
      "Cell \u001b[1;32mIn[16], line 12\u001b[0m\n\u001b[0;32m     10\u001b[0m \u001b[38;5;28;01melif\u001b[39;00m choice \u001b[38;5;241m==\u001b[39m \u001b[38;5;124m'\u001b[39m\u001b[38;5;124mf\u001b[39m\u001b[38;5;124m'\u001b[39m:\n\u001b[0;32m     11\u001b[0m     pet_id \u001b[38;5;241m=\u001b[39m \u001b[38;5;28minput\u001b[39m(\u001b[38;5;124m\"\u001b[39m\u001b[38;5;124m검색할 애완동물 id 입력: \u001b[39m\u001b[38;5;124m\"\u001b[39m)\n\u001b[1;32m---> 12\u001b[0m     find(petlist, pet_id)\n\u001b[0;32m     13\u001b[0m \u001b[38;5;28;01melif\u001b[39;00m choice \u001b[38;5;241m==\u001b[39m \u001b[38;5;124m'\u001b[39m\u001b[38;5;124mu\u001b[39m\u001b[38;5;124m'\u001b[39m:\n\u001b[0;32m     14\u001b[0m     pet_id \u001b[38;5;241m=\u001b[39m \u001b[38;5;28minput\u001b[39m(\u001b[38;5;124m\"\u001b[39m\u001b[38;5;124m수정할 애완동물 id 입력: \u001b[39m\u001b[38;5;124m\"\u001b[39m)\n",
      "\u001b[1;31mNameError\u001b[0m: name 'petlist' is not defined"
     ]
    }
   ],
   "source": [
    "def main():\n",
    "    petlist = load_from_file()\n",
    "\n",
    "while True:\n",
    "    choice = input('추가(a), 목록(s), 수정(u), 검색(f), 삭제(d), 종료(x)')\n",
    "    if choice == 'a':\n",
    "        add_pet()\n",
    "    elif choice == 's':\n",
    "        show_pet_list(petlist)\n",
    "    elif choice == 'f':\n",
    "        pet_id = input(\"검색할 애완동물 id 입력: \")\n",
    "        find(petlist, pet_id)\n",
    "    elif choice == 'u':\n",
    "        pet_id = input(\"수정할 애완동물 id 입력: \")\n",
    "        update_pet(petlist, pet_id)\n",
    "    elif choice == 'd':\n",
    "        pet_id = input(\"삭제할 애완동물 id 입력: \")\n",
    "        delete_pet(petlist, pet_id)\n",
    "    elif choice == 'x':\n",
    "        break\n",
    "    else:\n",
    "        print(\"잘못 입력했습니다\")\n",
    "\n",
    "    "
   ]
  }
 ],
 "metadata": {
  "kernelspec": {
   "display_name": "Python 3 (ipykernel)",
   "language": "python",
   "name": "python3"
  },
  "language_info": {
   "codemirror_mode": {
    "name": "ipython",
    "version": 3
   },
   "file_extension": ".py",
   "mimetype": "text/x-python",
   "name": "python",
   "nbconvert_exporter": "python",
   "pygments_lexer": "ipython3",
   "version": "3.11.3"
  }
 },
 "nbformat": 4,
 "nbformat_minor": 5
}
