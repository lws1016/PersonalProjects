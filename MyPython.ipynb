{
 "cells": [
  {
   "cell_type": "markdown",
   "id": "31f2fa7d",
   "metadata": {},
   "source": [
    "### list, tuple, dictionary, set\n",
    "- list : 저장 순서 유지 , 중복 허용,  원소 수정/삭제 가능, 성능 느림 , [ ] \n",
    "- tuple : list와 같으나 원소 수정/삭제 불가, 성능 빠름, (3, )\n",
    "- dictionary : key, value 로 저장, 검색 성능이 좋음 , {'k':'v', ...}\n",
    "- set : 중복 불허, 합집합, 교집합, 차집합, 대칭차집합,  {1,2,....}"
   ]
  },
  {
   "cell_type": "code",
   "execution_count": 1,
   "id": "48a47017",
   "metadata": {},
   "outputs": [
    {
     "data": {
      "text/plain": [
       "(set, set)"
      ]
     },
     "execution_count": 1,
     "metadata": {},
     "output_type": "execute_result"
    }
   ],
   "source": [
    "set1 = set([1,2,3,4])\n",
    "set2 = {3,4,5,6,7}\n",
    "\n",
    "type(set1), type(set2)"
   ]
  },
  {
   "cell_type": "code",
   "execution_count": 12,
   "id": "4d6c4963",
   "metadata": {},
   "outputs": [
    {
     "data": {
      "text/plain": [
       "[2, 0, 4, 7, 3]"
      ]
     },
     "execution_count": 12,
     "metadata": {},
     "output_type": "execute_result"
    }
   ],
   "source": [
    "# 무작위 샘플링\n",
    "# 내장 함수 (import 안해도 사용가능)  : import 불필요\n",
    "# 외장 함수 (import 해야지 사용가능) : import 필요\n",
    "# 사용자(개발자) 정의 함수\n",
    "# population : 모집합\n",
    "import random\n",
    "random.sample([1,2,3,4,5],2)\n",
    "random.sample(range(10),5)"
   ]
  },
  {
   "cell_type": "code",
   "execution_count": 15,
   "id": "2c045cf6",
   "metadata": {},
   "outputs": [
    {
     "data": {
      "text/plain": [
       "[1, 9, 7, 3, 9, 3, 6, 1, 1, 4]"
      ]
     },
     "execution_count": 15,
     "metadata": {},
     "output_type": "execute_result"
    }
   ],
   "source": [
    "col = []\n",
    "for n in range(10) :\n",
    "    i = random.sample(range(10),1)\n",
    "    col.append(i[0])\n",
    "col"
   ]
  },
  {
   "cell_type": "code",
   "execution_count": 18,
   "id": "bd59db78",
   "metadata": {},
   "outputs": [
    {
     "data": {
      "text/plain": [
       "set"
      ]
     },
     "execution_count": 18,
     "metadata": {},
     "output_type": "execute_result"
    }
   ],
   "source": [
    "# set_test = {}  # 이렇게 하면 dictionary가 됨\n",
    "set_test = set()\n",
    "type(set_test)"
   ]
  },
  {
   "cell_type": "code",
   "execution_count": 19,
   "id": "77fdcc55",
   "metadata": {},
   "outputs": [
    {
     "data": {
      "text/plain": [
       "['__and__',\n",
       " '__class__',\n",
       " '__class_getitem__',\n",
       " '__contains__',\n",
       " '__delattr__',\n",
       " '__dir__',\n",
       " '__doc__',\n",
       " '__eq__',\n",
       " '__format__',\n",
       " '__ge__',\n",
       " '__getattribute__',\n",
       " '__getstate__',\n",
       " '__gt__',\n",
       " '__hash__',\n",
       " '__iand__',\n",
       " '__init__',\n",
       " '__init_subclass__',\n",
       " '__ior__',\n",
       " '__isub__',\n",
       " '__iter__',\n",
       " '__ixor__',\n",
       " '__le__',\n",
       " '__len__',\n",
       " '__lt__',\n",
       " '__ne__',\n",
       " '__new__',\n",
       " '__or__',\n",
       " '__rand__',\n",
       " '__reduce__',\n",
       " '__reduce_ex__',\n",
       " '__repr__',\n",
       " '__ror__',\n",
       " '__rsub__',\n",
       " '__rxor__',\n",
       " '__setattr__',\n",
       " '__sizeof__',\n",
       " '__str__',\n",
       " '__sub__',\n",
       " '__subclasshook__',\n",
       " '__xor__',\n",
       " 'add',\n",
       " 'clear',\n",
       " 'copy',\n",
       " 'difference',\n",
       " 'difference_update',\n",
       " 'discard',\n",
       " 'intersection',\n",
       " 'intersection_update',\n",
       " 'isdisjoint',\n",
       " 'issubset',\n",
       " 'issuperset',\n",
       " 'pop',\n",
       " 'remove',\n",
       " 'symmetric_difference',\n",
       " 'symmetric_difference_update',\n",
       " 'union',\n",
       " 'update']"
      ]
     },
     "execution_count": 19,
     "metadata": {},
     "output_type": "execute_result"
    }
   ],
   "source": [
    "dir(set_test)"
   ]
  },
  {
   "cell_type": "code",
   "execution_count": 2,
   "id": "d5264bfa",
   "metadata": {},
   "outputs": [
    {
     "data": {
      "text/plain": [
       "{1, 2, 5, 6, 7}"
      ]
     },
     "execution_count": 2,
     "metadata": {},
     "output_type": "execute_result"
    }
   ],
   "source": [
    "set1^set2"
   ]
  },
  {
   "cell_type": "code",
   "execution_count": 25,
   "id": "f2b8a981",
   "metadata": {},
   "outputs": [
    {
     "name": "stdout",
     "output_type": "stream",
     "text": [
      "추출된 무작위 수: [17, 7, 14, 9, 0, 19, 13, 10, 11, 2]\n"
     ]
    }
   ],
   "source": [
    "import random\n",
    "\n",
    "# 0부터 20까지의 무작위 수를 추출하여 중복되지 않게 10개를 추출\n",
    "numbers = random.sample(range(21), 10)\n",
    "\n",
    "print(\"추출된 무작위 수:\", numbers)\n"
   ]
  },
  {
   "cell_type": "code",
   "execution_count": 26,
   "id": "39c80963",
   "metadata": {},
   "outputs": [],
   "source": [
    "set1 = {1,2,3,4}\n",
    "set2 = {3,4,5,6}"
   ]
  },
  {
   "cell_type": "code",
   "execution_count": 27,
   "id": "aa11c656",
   "metadata": {},
   "outputs": [
    {
     "data": {
      "text/plain": [
       "{1, 2, 3, 4, 5, 6}"
      ]
     },
     "execution_count": 27,
     "metadata": {},
     "output_type": "execute_result"
    }
   ],
   "source": [
    "# 합집합\n",
    "set1 | set2  # {1,2,3,4,5,6}"
   ]
  },
  {
   "cell_type": "code",
   "execution_count": 28,
   "id": "becaa2b3",
   "metadata": {},
   "outputs": [
    {
     "data": {
      "text/plain": [
       "{3, 4}"
      ]
     },
     "execution_count": 28,
     "metadata": {},
     "output_type": "execute_result"
    }
   ],
   "source": [
    "# 교집합\n",
    "set1 & set2 # {3,4}"
   ]
  },
  {
   "cell_type": "code",
   "execution_count": 29,
   "id": "32b28864",
   "metadata": {},
   "outputs": [
    {
     "data": {
      "text/plain": [
       "{1, 2}"
      ]
     },
     "execution_count": 29,
     "metadata": {},
     "output_type": "execute_result"
    }
   ],
   "source": [
    "# 차집합\n",
    "set1 - set2 # {1,2}"
   ]
  },
  {
   "cell_type": "code",
   "execution_count": 30,
   "id": "472a66ed",
   "metadata": {},
   "outputs": [
    {
     "data": {
      "text/plain": [
       "{1, 2, 5, 6}"
      ]
     },
     "execution_count": 30,
     "metadata": {},
     "output_type": "execute_result"
    }
   ],
   "source": [
    "# 대칭 차집합 : 합집합 원소 중에서 교집합 원소를 뺀다 \n",
    "set1 ^ set2  # {1,2,5,6}"
   ]
  },
  {
   "cell_type": "code",
   "execution_count": 32,
   "id": "7774ad46",
   "metadata": {},
   "outputs": [
    {
     "data": {
      "text/plain": [
       "{1, 2, 5, 6}"
      ]
     },
     "execution_count": 32,
     "metadata": {},
     "output_type": "execute_result"
    }
   ],
   "source": [
    "#합집합 구하기\n",
    "union_set = set1 | set2\n",
    "\n",
    "# 교집합 구하기\n",
    "intersection_set = set1 & set2\n",
    "\n",
    "# 합집합의 원소 중에서 교집합의 원소를 빼기\n",
    "result_set = union_set - intersection_set\n",
    "result_set"
   ]
  },
  {
   "cell_type": "markdown",
   "id": "b23d037e",
   "metadata": {},
   "source": [
    "### 서식 문자열 작성하기\n",
    "- '%s xxxx %s' %(name,age)\n",
    "- '{} xxxx {}'.format(name,age)\n",
    "- f'{name} xxxx {age}'"
   ]
  },
  {
   "cell_type": "code",
   "execution_count": 33,
   "id": "7bd4f8f3",
   "metadata": {},
   "outputs": [],
   "source": [
    "name = 'smith' \n",
    "age = 30"
   ]
  },
  {
   "cell_type": "code",
   "execution_count": 36,
   "id": "2e6c3945",
   "metadata": {},
   "outputs": [
    {
     "data": {
      "text/plain": [
       "'smith의 나이는 30'"
      ]
     },
     "execution_count": 36,
     "metadata": {},
     "output_type": "execute_result"
    }
   ],
   "source": [
    "'%s의 나이는 %s' %(name,age)\n",
    "'{}의 나이는 {}'.format(name,age)\n",
    "f'{name}의 나이는 {age}'"
   ]
  },
  {
   "cell_type": "markdown",
   "id": "c0716852",
   "metadata": {},
   "source": [
    "### 예외처리\n",
    "- try : 예외 발생 가능한 블럭 \n",
    "- except : 예외가 발생했을 때 실행되는 블럭\n",
    "- else : 예외가 발생하지 않았을 때 실행되는 블럭\n",
    "- finally : 예외 발생과 무관하게 항상 실행되는 블럭"
   ]
  },
  {
   "cell_type": "code",
   "execution_count": null,
   "id": "dae567aa",
   "metadata": {},
   "outputs": [],
   "source": [
    "# 키보드에서 2개의 정수를 입력받는다\n",
    "# 첫번째 수를 두번째 수로 나눗셈하고 그 계산식과 결과값을 화면에 표시한다\n"
   ]
  },
  {
   "cell_type": "code",
   "execution_count": 37,
   "id": "e20595af",
   "metadata": {},
   "outputs": [
    {
     "name": "stdout",
     "output_type": "stream",
     "text": [
      "첫 번째 정수를 입력하세요: 10\n",
      "두 번째 정수를 입력하세요: 5\n",
      "10를 5로 나눈 결과: 2.0\n"
     ]
    }
   ],
   "source": [
    "# 키보드에서 2개의 정수를 입력받기\n",
    "num1 = int(input(\"첫 번째 정수를 입력하세요: \"))\n",
    "num2 = int(input(\"두 번째 정수를 입력하세요: \"))\n",
    "\n",
    "# 계산식과 결과값 표시\n",
    "result = num1 / num2\n",
    "print(f\"{num1}를 {num2}로 나눈 결과: {result}\")"
   ]
  },
  {
   "cell_type": "code",
   "execution_count": 38,
   "id": "60198485",
   "metadata": {
    "scrolled": true
   },
   "outputs": [
    {
     "name": "stdout",
     "output_type": "stream",
     "text": [
      "첫 번째 정수를 입력하세요: 5\n",
      "두 번째 정수를 입력하세요: 0\n"
     ]
    },
    {
     "ename": "ZeroDivisionError",
     "evalue": "division by zero",
     "output_type": "error",
     "traceback": [
      "\u001b[1;31m---------------------------------------------------------------------------\u001b[0m",
      "\u001b[1;31mZeroDivisionError\u001b[0m                         Traceback (most recent call last)",
      "Cell \u001b[1;32mIn[38], line 6\u001b[0m\n\u001b[0;32m      3\u001b[0m num2 \u001b[38;5;241m=\u001b[39m \u001b[38;5;28mint\u001b[39m(\u001b[38;5;28minput\u001b[39m(\u001b[38;5;124m\"\u001b[39m\u001b[38;5;124m두 번째 정수를 입력하세요: \u001b[39m\u001b[38;5;124m\"\u001b[39m))\n\u001b[0;32m      5\u001b[0m \u001b[38;5;66;03m# 계산식과 결과값 표시\u001b[39;00m\n\u001b[1;32m----> 6\u001b[0m result \u001b[38;5;241m=\u001b[39m num1 \u001b[38;5;241m/\u001b[39m num2\n\u001b[0;32m      7\u001b[0m \u001b[38;5;28mprint\u001b[39m(\u001b[38;5;124mf\u001b[39m\u001b[38;5;124m\"\u001b[39m\u001b[38;5;132;01m{\u001b[39;00mnum1\u001b[38;5;132;01m}\u001b[39;00m\u001b[38;5;124m를 \u001b[39m\u001b[38;5;132;01m{\u001b[39;00mnum2\u001b[38;5;132;01m}\u001b[39;00m\u001b[38;5;124m로 나눈 결과: \u001b[39m\u001b[38;5;132;01m{\u001b[39;00mresult\u001b[38;5;132;01m}\u001b[39;00m\u001b[38;5;124m\"\u001b[39m)\n",
      "\u001b[1;31mZeroDivisionError\u001b[0m: division by zero"
     ]
    }
   ],
   "source": [
    "# 키보드에서 2개의 정수를 입력받기\n",
    "num1 = int(input(\"첫 번째 정수를 입력하세요: \"))\n",
    "num2 = int(input(\"두 번째 정수를 입력하세요: \"))\n",
    "\n",
    "# 계산식과 결과값 표시\n",
    "result = num1 / num2\n",
    "print(f\"{num1}를 {num2}로 나눈 결과: {result}\")"
   ]
  },
  {
   "cell_type": "code",
   "execution_count": 43,
   "id": "4ac84f97",
   "metadata": {},
   "outputs": [
    {
     "name": "stdout",
     "output_type": "stream",
     "text": [
      "첫 번째 정수를 입력하세요: 5\n",
      "두 번째 정수를 입력하세요: 0\n",
      "0이 분모가 될 수는 없습니다\n",
      "실행 종료\n"
     ]
    }
   ],
   "source": [
    "num1 = int(input(\"첫 번째 정수를 입력하세요: \"))\n",
    "num2 = int(input(\"두 번째 정수를 입력하세요: \"))\n",
    "result = 0.0\n",
    "try:\n",
    "    result = num1 / num2\n",
    "except ZeroDivisionError as zde:\n",
    "    print('0이 분모가 될 수는 없습니다')\n",
    "else:\n",
    "     print(f\"{num1}를 {num2}로 나눈 결과: {result}\")\n",
    "finally:\n",
    "    print('실행 종료')"
   ]
  },
  {
   "cell_type": "code",
   "execution_count": null,
   "id": "586bea10",
   "metadata": {},
   "outputs": [],
   "source": [
    "# 만약 키보드에서 숫자가 입력되지 않았다면 어떤 결과가 나오는가 확인하고\n",
    "# 예외처리 코드를 적용해보세요."
   ]
  },
  {
   "cell_type": "code",
   "execution_count": 44,
   "id": "ead181ed",
   "metadata": {},
   "outputs": [
    {
     "name": "stdout",
     "output_type": "stream",
     "text": [
      "첫 번째 정수를 입력하세요: 10\n",
      "두 번째 정수를 입력하세요: 3\n",
      "실행 종료\n"
     ]
    },
    {
     "ename": "TypeError",
     "evalue": "unsupported operand type(s) for /: 'int' and 'str'",
     "output_type": "error",
     "traceback": [
      "\u001b[1;31m---------------------------------------------------------------------------\u001b[0m",
      "\u001b[1;31mTypeError\u001b[0m                                 Traceback (most recent call last)",
      "Cell \u001b[1;32mIn[44], line 5\u001b[0m\n\u001b[0;32m      3\u001b[0m result \u001b[38;5;241m=\u001b[39m \u001b[38;5;241m0.0\u001b[39m\n\u001b[0;32m      4\u001b[0m \u001b[38;5;28;01mtry\u001b[39;00m:\n\u001b[1;32m----> 5\u001b[0m     result \u001b[38;5;241m=\u001b[39m num1 \u001b[38;5;241m/\u001b[39m num2\n\u001b[0;32m      6\u001b[0m \u001b[38;5;28;01mexcept\u001b[39;00m \u001b[38;5;167;01mZeroDivisionError\u001b[39;00m \u001b[38;5;28;01mas\u001b[39;00m zde:\n\u001b[0;32m      7\u001b[0m     \u001b[38;5;28mprint\u001b[39m(\u001b[38;5;124m'\u001b[39m\u001b[38;5;124m0이 분모가 될 수는 없습니다\u001b[39m\u001b[38;5;124m'\u001b[39m)\n",
      "\u001b[1;31mTypeError\u001b[0m: unsupported operand type(s) for /: 'int' and 'str'"
     ]
    }
   ],
   "source": [
    "num1 = int(input(\"첫 번째 정수를 입력하세요: \"))\n",
    "num2 = int(input(\"두 번째 정수를 입력하세요: \"))\n",
    "result = 0.0\n",
    "try:\n",
    "    result = num1 / num2\n",
    "except ZeroDivisionError as zde:\n",
    "    print('0이 분모가 될 수는 없습니다')\n",
    "else:\n",
    "     print(f\"{num1}를 {num2}로 나눈 결과: {result}\")\n",
    "finally:\n",
    "    print('실행 종료')"
   ]
  },
  {
   "cell_type": "code",
   "execution_count": 46,
   "id": "af0ec32d",
   "metadata": {
    "scrolled": false
   },
   "outputs": [
    {
     "name": "stdout",
     "output_type": "stream",
     "text": [
      "첫 번째 정수를 입력하세요: 10\n",
      "두 번째 정수를 입력하세요: a\n"
     ]
    },
    {
     "ename": "ValueError",
     "evalue": "invalid literal for int() with base 10: 'a'",
     "output_type": "error",
     "traceback": [
      "\u001b[1;31m---------------------------------------------------------------------------\u001b[0m",
      "\u001b[1;31mValueError\u001b[0m                                Traceback (most recent call last)",
      "Cell \u001b[1;32mIn[46], line 2\u001b[0m\n\u001b[0;32m      1\u001b[0m num1 \u001b[38;5;241m=\u001b[39m \u001b[38;5;28mint\u001b[39m(\u001b[38;5;28minput\u001b[39m(\u001b[38;5;124m\"\u001b[39m\u001b[38;5;124m첫 번째 정수를 입력하세요: \u001b[39m\u001b[38;5;124m\"\u001b[39m))\n\u001b[1;32m----> 2\u001b[0m num2 \u001b[38;5;241m=\u001b[39m \u001b[38;5;28mint\u001b[39m(\u001b[38;5;28minput\u001b[39m(\u001b[38;5;124m\"\u001b[39m\u001b[38;5;124m두 번째 정수를 입력하세요: \u001b[39m\u001b[38;5;124m\"\u001b[39m))\n\u001b[0;32m      3\u001b[0m result \u001b[38;5;241m=\u001b[39m \u001b[38;5;241m0.0\u001b[39m\n\u001b[0;32m      4\u001b[0m \u001b[38;5;28;01mtry\u001b[39;00m:\n",
      "\u001b[1;31mValueError\u001b[0m: invalid literal for int() with base 10: 'a'"
     ]
    }
   ],
   "source": [
    "num1 = int(input(\"첫 번째 정수를 입력하세요: \"))\n",
    "num2 = int(input(\"두 번째 정수를 입력하세요: \"))\n",
    "result = 0.0\n",
    "try:\n",
    "    result = num1 / num2\n",
    "except ZeroDivisionError as zde:\n",
    "    print('0이 분모가 될 수는 없습니다')\n",
    "except TypeError as type:\n",
    "    print('숫자가 입력되지 않습니다')\n",
    "else:\n",
    "     print(f\"{num1}를 {num2}로 나눈 결과: {result}\")\n",
    "finally:\n",
    "    print('실행 종료')"
   ]
  },
  {
   "cell_type": "code",
   "execution_count": 58,
   "id": "c5c219a9",
   "metadata": {},
   "outputs": [
    {
     "name": "stdout",
     "output_type": "stream",
     "text": [
      "첫 번째 정수를 입력하세요: 10\n",
      "두 번째 정수를 입력하세요: 5\n",
      "10를 5로 나눈 결과: 2.0\n",
      "실행 종료\n"
     ]
    }
   ],
   "source": [
    "try:\n",
    "    num1 = int(input(\"첫 번째 정수를 입력하세요: \"))\n",
    "    num2 = int(input(\"두 번째 정수를 입력하세요: \"))\n",
    "    result = 0.0\n",
    "\n",
    "    result = num1 / num2\n",
    "    '''\n",
    "    except ZeroDivisionError as zde:\n",
    "        print('0이 분모가 될 수는 없습니다',zde)\n",
    "    except ValueError as val:\n",
    "        print('0이외의 정수를 입력해야합니다',val)\n",
    "    '''\n",
    "except Exception as ex:\n",
    "    #print('예외 발생')\n",
    "    # instanceof : obj instanceof Emp <-- 자바의 경우\n",
    "    if isinstance(ex,ZeroDivisionError):\n",
    "         print('0이 분모가 될 수는 없습니다',ex)\n",
    "    elif isinstance(ex,ValueError):\n",
    "        print('0이외의 정수를 입력해야합니다',ex)\n",
    "else:\n",
    "     print(f\"{num1}를 {num2}로 나눈 결과: {result}\")\n",
    "finally:\n",
    "    print('실행 종료')"
   ]
  },
  {
   "cell_type": "markdown",
   "id": "21f39757",
   "metadata": {},
   "source": [
    "## 파일 다루기\n",
    "- open() : 파일경로를 이용하여 파일 입출력 스트림을 얻어낸다\n",
    "- read, write, append 등의 작업을 수행\n",
    "- close() : 파일 입출력시에 사용했던 리소스를 해제한다"
   ]
  },
  {
   "cell_type": "code",
   "execution_count": 76,
   "id": "46cbea51",
   "metadata": {},
   "outputs": [
    {
     "data": {
      "text/plain": [
       "'abcdefghijklmnopqrstuvwxyz\\nasdasdasdasdasdasdasdadasasd\\nasdasdasdasdasdasdasdasd\\nasdasdasdsasdasdasdada\\n'"
      ]
     },
     "execution_count": 76,
     "metadata": {},
     "output_type": "execute_result"
    }
   ],
   "source": [
    "# 파일에 저장된 모든 텍스트 읽어오기\n",
    "fin = open('d:/test/sample.txt','r',encoding='utf-8')\n",
    "data = fin.read()\n",
    "fin.close()\n",
    "data"
   ]
  },
  {
   "cell_type": "code",
   "execution_count": 77,
   "id": "8fa6b15e",
   "metadata": {},
   "outputs": [
    {
     "name": "stdout",
     "output_type": "stream",
     "text": [
      "abcdefghijklmnopqrstuvwxyz\n",
      "asdasdasdasdasdasdasdadasasd\n",
      "asdasdasdasdasdasdasdasd\n"
     ]
    }
   ],
   "source": [
    "fin = open('d:/test/sample.txt','r',encoding='utf-8')\n",
    "#dir(fin)\n",
    "line = fin.readline()\n",
    "print(line.strip())\n",
    "\n",
    "line = fin.readline()\n",
    "print(line.strip())\n",
    "\n",
    "line = fin.readline()\n",
    "print(line.strip())\n",
    "\n",
    "fin.close()"
   ]
  },
  {
   "cell_type": "code",
   "execution_count": 79,
   "id": "f0b14ded",
   "metadata": {},
   "outputs": [
    {
     "name": "stdout",
     "output_type": "stream",
     "text": [
      "abcdefghijklmnopqrstuvwxyz\n",
      "asdasdasdasdasdasdasdadasasd\n",
      "asdasdasdasdasdasdasdasd\n",
      "asdasdasdsasdasdasdada\n"
     ]
    }
   ],
   "source": [
    "fin = open('d:/test/sample.txt','r',encoding='utf-8')\n",
    "for line in fin.readlines():\n",
    "        print(line.rstrip())\n",
    "fin.close()"
   ]
  },
  {
   "cell_type": "code",
   "execution_count": 78,
   "id": "bf37ecbe",
   "metadata": {},
   "outputs": [
    {
     "name": "stdout",
     "output_type": "stream",
     "text": [
      "abcdefghijklmnopqrstuvwxyz\n",
      "asdasdasdasdasdasdasdadasasd\n",
      "asdasdasdasdasdasdasdasd\n",
      "asdasdasdsasdasdasdada\n"
     ]
    }
   ],
   "source": [
    "fin = open('d:/test/sample.txt','r',encoding='utf-8')\n",
    "for v in fin:\n",
    "    print(v.rstrip())\n",
    "fin.close()"
   ]
  },
  {
   "cell_type": "code",
   "execution_count": 80,
   "id": "fb360ee5",
   "metadata": {},
   "outputs": [
    {
     "name": "stdout",
     "output_type": "stream",
     "text": [
      "abcdefghijklmnopqrstuvwxyz\n",
      "asdasdasdasdasdasdasdadasasd\n",
      "asdasdasdasdasdasdasdasd\n",
      "asdasdasdsasdasdasdada\n"
     ]
    }
   ],
   "source": [
    "with open('d:/test/sample.txt','r',encoding='utf-8') as fin:\n",
    "    for line in fin:\n",
    "        print(line.rstrip())"
   ]
  },
  {
   "cell_type": "markdown",
   "id": "99cb35f2",
   "metadata": {},
   "source": [
    "## 파일에 텍스트 쓰기"
   ]
  },
  {
   "cell_type": "code",
   "execution_count": null,
   "id": "6fadae28",
   "metadata": {},
   "outputs": [],
   "source": [
    "with open('D:/test/python_dict.txt',mode='w') as fout:\n",
    "    fout.write(\"한행 쓰기\\n\")"
   ]
  },
  {
   "cell_type": "code",
   "execution_count": null,
   "id": "9abd0a19",
   "metadata": {},
   "outputs": [],
   "source": [
    "# 키보드에서 입력되는 회원정보(번호,이름,전화번호)\n",
    "# 이용자가 x 눌러 프로그램 종료시까지 반복해서 파일에 저장한다\n",
    "# 파일에 이어쓰기하려면 mode='a'\n",
    "# 이용자가 x 눌러 종료하면 지금까지 누적된 모든 회원정보를 목록으로 표시"
   ]
  },
  {
   "cell_type": "code",
   "execution_count": 84,
   "id": "0b8011d8",
   "metadata": {
    "scrolled": true
   },
   "outputs": [
    {
     "name": "stdout",
     "output_type": "stream",
     "text": [
      "번호 (종료하려면 'x' 입력): 1\n",
      "이름: Lee\n",
      "전화: 010-2222-3333\n",
      "번호 (종료하려면 'x' 입력): x\n",
      "프로그램 종료\n",
      "누적된 회원정보 목록:\n",
      "1, Lee, 010-1111-2222\n",
      "2, Park, 010-1234-5678\n",
      "3, Choi, 010-3333-4444\n",
      "1, Kim, 010-1234-5678\n",
      "2, Jeong, 010-2345-6789\n",
      "3, Ko, 010-9876-5432\n",
      "4, Jang, 010-4628-2953\n",
      "5, Gu, 010-2054-0154\n",
      "1, Lee, 010-2222-3333\n"
     ]
    }
   ],
   "source": [
    "with open('D:/test/python_dict.txt', mode='a') as fout:\n",
    "    while True:\n",
    "        num = input(\"번호 (종료하려면 'x' 입력): \")\n",
    "        if num.lower() == 'x':\n",
    "            print(\"프로그램 종료\")\n",
    "            break\n",
    "\n",
    "        try:\n",
    "            num = int(num)\n",
    "            name = input(\"이름: \")\n",
    "            phone = input(\"전화: \")\n",
    "\n",
    "            # 회원정보를 파일에 이어쓰기\n",
    "            fout.write(f\"{num}, {name}, {phone}\\n\")\n",
    "        except ValueError:\n",
    "            print(\"잘못된 입력입니다. 다시 시도하세요.\")\n",
    "\n",
    "print(\"누적된 회원정보 목록:\")\n",
    "with open('D:/test/python_dict.txt', mode='r') as fin:\n",
    "    for line in fin:\n",
    "        print(line.strip())  # 개행 문자(\\n) 제거하여 출력\n"
   ]
  },
  {
   "cell_type": "markdown",
   "id": "d8c00796",
   "metadata": {},
   "source": [
    "## eval() 사용하기\n",
    "- evaluation\n",
    "- 문자열을 파이썬 코드 상태로 실행\n",
    "- eval( 'print(\"Hello\")')"
   ]
  },
  {
   "cell_type": "code",
   "execution_count": 85,
   "id": "1c648580",
   "metadata": {},
   "outputs": [
    {
     "name": "stdout",
     "output_type": "stream",
     "text": [
      "<class 'str'>\n"
     ]
    }
   ],
   "source": [
    "with open('D:/test/python_dict.txt','r',encoding='utf-8') as fin:\n",
    "    print(type(fin.read())) # str"
   ]
  },
  {
   "cell_type": "code",
   "execution_count": 86,
   "id": "ff4a6cd2",
   "metadata": {
    "scrolled": true
   },
   "outputs": [
    {
     "ename": "SyntaxError",
     "evalue": "leading zeros in decimal integer literals are not permitted; use an 0o prefix for octal integers (<string>, line 1)",
     "output_type": "error",
     "traceback": [
      "Traceback \u001b[1;36m(most recent call last)\u001b[0m:\n",
      "\u001b[0m  File \u001b[0;32mD:\\anaconda3\\Lib\\site-packages\\IPython\\core\\interactiveshell.py:3505\u001b[0m in \u001b[0;35mrun_code\u001b[0m\n    exec(code_obj, self.user_global_ns, self.user_ns)\u001b[0m\n",
      "\u001b[1;36m  Cell \u001b[1;32mIn[86], line 2\u001b[1;36m\n\u001b[1;33m    obj = eval(fin.read())\u001b[1;36m\n",
      "\u001b[1;36m  File \u001b[1;32m<string>:1\u001b[1;36m\u001b[0m\n\u001b[1;33m    1, Lee, 010-1111-2222\u001b[0m\n\u001b[1;37m            ^\u001b[0m\n\u001b[1;31mSyntaxError\u001b[0m\u001b[1;31m:\u001b[0m leading zeros in decimal integer literals are not permitted; use an 0o prefix for octal integers\n"
     ]
    }
   ],
   "source": [
    "with open('D:/test/python_dict.txt','r',encoding='utf-8') as fin:\n",
    "    obj = eval(fin.read())\n",
    "    print(type(obj))   # list"
   ]
  },
  {
   "cell_type": "code",
   "execution_count": 87,
   "id": "4ec24698",
   "metadata": {
    "scrolled": true
   },
   "outputs": [
    {
     "ename": "SyntaxError",
     "evalue": "leading zeros in decimal integer literals are not permitted; use an 0o prefix for octal integers (<string>, line 1)",
     "output_type": "error",
     "traceback": [
      "Traceback \u001b[1;36m(most recent call last)\u001b[0m:\n",
      "\u001b[0m  File \u001b[0;32mD:\\anaconda3\\Lib\\site-packages\\IPython\\core\\interactiveshell.py:3505\u001b[0m in \u001b[0;35mrun_code\u001b[0m\n    exec(code_obj, self.user_global_ns, self.user_ns)\u001b[0m\n",
      "\u001b[1;36m  Cell \u001b[1;32mIn[87], line 2\u001b[1;36m\n\u001b[1;33m    mem_list = eval(fin.read())\u001b[1;36m\n",
      "\u001b[1;36m  File \u001b[1;32m<string>:1\u001b[1;36m\u001b[0m\n\u001b[1;33m    1, Lee, 010-1111-2222\u001b[0m\n\u001b[1;37m            ^\u001b[0m\n\u001b[1;31mSyntaxError\u001b[0m\u001b[1;31m:\u001b[0m leading zeros in decimal integer literals are not permitted; use an 0o prefix for octal integers\n"
     ]
    }
   ],
   "source": [
    "with open('D:/test/python_dict.txt','r',encoding='utf-8') as fin:\n",
    "    mem_list = eval(fin.read())\n",
    "    print(mem_list[0]['age'])"
   ]
  },
  {
   "cell_type": "markdown",
   "id": "65855c00",
   "metadata": {},
   "source": [
    "### 키보드에서 pet 정보를 입력하고 파일에 저장하여 CRUD\n",
    "- pet(id ,species, weight, length)\n",
    "- 추가(a), 목록(s), 검색(f), 수정(u), 삭제(d), 종료(x)"
   ]
  },
  {
   "cell_type": "code",
   "execution_count": null,
   "id": "24317c94",
   "metadata": {},
   "outputs": [
    {
     "name": "stdout",
     "output_type": "stream",
     "text": [
      "추가(a), 목록(s), 검색(f), 수정(u), 삭제(d), 종료(x): s\n",
      "추가(a), 목록(s), 검색(f), 수정(u), 삭제(d), 종료(x): a\n",
      "애완동물 id 입력: 1\n",
      "종 입력: 햄스터\n",
      "무게 입력: 5\n",
      "길이 입력: 10\n",
      "애완동물 정보가 추가되었습니다.\n",
      "추가(a), 목록(s), 검색(f), 수정(u), 삭제(d), 종료(x): a\n",
      "애완동물 id 입력: 2\n",
      "종 입력: 앵무새\n",
      "무게 입력: 5\n",
      "길이 입력: 9\n",
      "애완동물 정보가 추가되었습니다.\n",
      "추가(a), 목록(s), 검색(f), 수정(u), 삭제(d), 종료(x): a\n",
      "애완동물 id 입력: 3\n",
      "종 입력: 코카니스파니엘\n",
      "무게 입력: 15\n",
      "길이 입력: 10\n",
      "애완동물 정보가 추가되었습니다.\n",
      "추가(a), 목록(s), 검색(f), 수정(u), 삭제(d), 종료(x): s\n",
      "{'id': '1', 'species': '햄스터', 'weight': '5', 'length': '10'}\n",
      "{'id': '2', 'species': '앵무새', 'weight': '5', 'length': '9'}\n",
      "{'id': '3', 'species': '코카니스파니엘', 'weight': '15', 'length': '10'}\n",
      "추가(a), 목록(s), 검색(f), 수정(u), 삭제(d), 종료(x): u\n",
      "수정할 애완동물 id 입력: 3\n",
      "검색된 애완동물 정보:\n",
      "{'id': '3', 'species': '코카니스파니엘', 'weight': '15', 'length': '10'}\n",
      "수정할 종 입력: 닥스훈트\n",
      "수정할 무게 입력: 10\n",
      "수정할 길이 입력: 13\n",
      "애완동물 정보가 수정되었습니다.\n",
      "추가(a), 목록(s), 검색(f), 수정(u), 삭제(d), 종료(x): s\n",
      "{'id': '1', 'species': '햄스터', 'weight': '5', 'length': '10'}\n",
      "{'id': '2', 'species': '앵무새', 'weight': '5', 'length': '9'}\n",
      "{'id': '3', 'species': '닥스훈트', 'weight': '10', 'length': '13'}\n"
     ]
    }
   ],
   "source": [
    "def add_pet(pet_list):\n",
    "    pet_id = input(\"애완동물 id 입력: \")\n",
    "    species = input(\"종 입력: \")\n",
    "    weight = input(\"무게 입력: \")\n",
    "    length = input(\"길이 입력: \")\n",
    "\n",
    "    pet_list.append({'id': pet_id, 'species': species, 'weight': weight, 'length': length})\n",
    "    save_to_file(pet_list)\n",
    "    print(\"애완동물 정보가 추가되었습니다.\")\n",
    "\n",
    "def show_pet_list(pet_list):\n",
    "    for pet in pet_list:\n",
    "        print(pet)\n",
    "\n",
    "def search_pet(pet_list, pet_id):\n",
    "    for pet in pet_list:\n",
    "        if pet['id'] == pet_id:\n",
    "            return pet\n",
    "    return None\n",
    "\n",
    "def update_pet(pet_list, pet_id):\n",
    "    pet = search_pet(pet_list, pet_id)\n",
    "    if pet:\n",
    "        print(\"검색된 애완동물 정보:\")\n",
    "        print(pet)\n",
    "        pet['species'] = input(\"수정할 종 입력: \")\n",
    "        pet['weight'] = input(\"수정할 무게 입력: \")\n",
    "        pet['length'] = input(\"수정할 길이 입력: \")\n",
    "        save_to_file(pet_list)\n",
    "        print(\"애완동물 정보가 수정되었습니다.\")\n",
    "    else:\n",
    "        print(\"검색된 애완동물 정보가 없습니다.\")\n",
    "\n",
    "def delete_pet(pet_list, pet_id):\n",
    "    pet = search_pet(pet_list, pet_id)\n",
    "    if pet:\n",
    "        pet_list.remove(pet)\n",
    "        save_to_file(pet_list)\n",
    "        print(\"애완동물 정보가 삭제되었습니다.\")\n",
    "    else:\n",
    "        print(\"검색된 애완동물 정보가 없습니다.\")\n",
    "\n",
    "def save_to_file(pet_list):\n",
    "    with open('D:/test/pet.txt', mode='a') as fout:\n",
    "        for pet in pet_list:\n",
    "            fout.write(f\"{pet['id']},{pet['species']},{pet['weight']},{pet['length']}\\n\")\n",
    "\n",
    "def load_from_file():\n",
    "    pet_list = []\n",
    "    try:\n",
    "        with open('D:/test/pet.txt','r', encoding='utf-8') as fin:\n",
    "            for line in fin:\n",
    "                pet_id, species, weight, length = line.strip().split(',')\n",
    "                pet_list.append({'id': pet_id, 'species': species, 'weight': weight, 'length': length})\n",
    "    except FileNotFoundError:\n",
    "        pass\n",
    "    return pet_list\n",
    "\n",
    "def main():\n",
    "    pet_list = load_from_file()\n",
    "\n",
    "    while True:\n",
    "        choice = input(\"추가(a), 목록(s), 검색(f), 수정(u), 삭제(d), 종료(x): \")\n",
    "\n",
    "        if choice == 'a':\n",
    "            add_pet(pet_list)\n",
    "        elif choice == 's':\n",
    "            show_pet_list(pet_list)\n",
    "        elif choice == 'f':\n",
    "            pet_id = input(\"검색할 애완동물 id 입력: \")\n",
    "            pet = search_pet(pet_list, pet_id)\n",
    "            if pet:\n",
    "                print(\"검색된 애완동물 정보:\")\n",
    "                print(pet)\n",
    "            else:\n",
    "                print(\"검색된 애완동물 정보가 없습니다.\")\n",
    "        elif choice == 'u':\n",
    "            pet_id = input(\"수정할 애완동물 id 입력: \")\n",
    "            update_pet(pet_list, pet_id)\n",
    "        elif choice == 'd':\n",
    "            pet_id = input(\"삭제할 애완동물 id 입력: \")\n",
    "            delete_pet(pet_list, pet_id)\n",
    "        elif choice == 'x':\n",
    "            save_to_file(pet_list)  # 프로그램 종료 전에 파일에 저장\n",
    "            break\n",
    "        else:\n",
    "            print(\"잘못된 입력입니다. 다시 시도하세요.\")\n",
    "\n",
    "if __name__ == \"__main__\":\n",
    "    main()"
   ]
  }
 ],
 "metadata": {
  "kernelspec": {
   "display_name": "Python 3 (ipykernel)",
   "language": "python",
   "name": "python3"
  },
  "language_info": {
   "codemirror_mode": {
    "name": "ipython",
    "version": 3
   },
   "file_extension": ".py",
   "mimetype": "text/x-python",
   "name": "python",
   "nbconvert_exporter": "python",
   "pygments_lexer": "ipython3",
   "version": "3.11.3"
  }
 },
 "nbformat": 4,
 "nbformat_minor": 5
}
